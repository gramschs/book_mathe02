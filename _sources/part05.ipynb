{
 "cells": [
  {
   "cell_type": "markdown",
   "id": "3e675a9d-dbbf-4796-a81c-a9cd9cb14bcf",
   "metadata": {},
   "source": [
    "# Fourier-Reihen\n"
   ]
  },
  {
   "cell_type": "markdown",
   "id": "b82fd025-a792-4a11-a1bd-0b65102d6383",
   "metadata": {},
   "source": [
    "## Lernziele Fourier-Reihen\n",
    "\n",
    "```{admonition} Lernziele\n",
    ":class: tip\n",
    "* Sie können erklären, was eine **periodische Funktion** ist.\n",
    "* Sie können von einer periodischen Funktion die **Periode** bestimmen.\n",
    "* Sie kennen die Kriterien, wann eine Funktion in eine **Fourier-Reihe** entwickelt werden darf.\n",
    "* Sie können eine periodische Funktion in eine Fourier-Reihe umschreiben.\n",
    "* Sie können die **Fourier-Koeffizienten** berechnen. \n",
    "```"
   ]
  }
 ],
 "metadata": {
  "kernelspec": {
   "display_name": "Python 3 (ipykernel)",
   "language": "python",
   "name": "python3"
  },
  "language_info": {
   "codemirror_mode": {
    "name": "ipython",
    "version": 3
   },
   "file_extension": ".py",
   "mimetype": "text/x-python",
   "name": "python",
   "nbconvert_exporter": "python",
   "pygments_lexer": "ipython3",
   "version": "3.9.12"
  }
 },
 "nbformat": 4,
 "nbformat_minor": 5
}
