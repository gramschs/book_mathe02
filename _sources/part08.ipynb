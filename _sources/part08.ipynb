{
 "cells": [
  {
   "cell_type": "code",
   "execution_count": 4,
   "id": "3e6a37e7-c758-4075-82f5-4ea8440f86b2",
   "metadata": {
    "tags": [
     "remove-input"
    ]
   },
   "outputs": [],
   "source": [
    "from IPython.display import IFrame, SVG"
   ]
  },
  {
   "cell_type": "markdown",
   "id": "6000ae5e-f2c1-4320-b691-e456481d6eea",
   "metadata": {},
   "source": [
    "# Linearisierung/Tangentialebene und Extremwerte\n",
    "\n",
    "Für eindimensionale Funktionen haben wir die Linearisierung und die Annährung einer Funktion durch eine Tangente bereits kennengelernt. Am einfachsten lässt sich die Tangente einer eindimensionalen Funktion berechnen, indem wir das 1. Taylor-Polynom im Entwicklungspunkt $x_0$ berechnen:\n",
    "\n",
    "$$f(x) \\approx f(x_0) + f'(x_0)\\cdot (x-x_0).$$\n",
    "\n",
    "Aus der Tangente wird für eine Funktion $f: \\mathbb{R}^2 \\rightarrow \\mathbb{R}$ eine Tangentialebene. \n",
    "\n",
    "Neben der Linearisierung einer mehrdimensionalen Funktion ist auch die Berechnung von Minima (Tiefpunkten) und Maxima (Hochpunkten) interessant für die Praxis. In diesem Kapitel lernen wir, was die 2. Ableitung einer mehrdimensionalen Funktion ist und wie sie genutzt werden kann, um Extremwerte zu berechnen.\n",
    "\n"
   ]
  },
  {
   "cell_type": "markdown",
   "id": "138b1b23-06bb-4ccc-b5c6-0debed133072",
   "metadata": {},
   "source": [
    "## Lernziele\n",
    "\n",
    "```{admonition} Lernziele\n",
    ":class: tip\n",
    "* Sie können eine skalarwertige Funktion $f(x,y)$ in einem Arbeitspunkt $(x_0,y_0)$ **linearisieren** oder anders ausgedrückt, ihre **Tangentialebene**\n",
    "\n",
    "$$T_1(x,y) = f(x_0,y_0) + \\frac{\\partial f(x_0,y_0)}{\\partial x} (x-x_0) + \\frac{\\partial f(x_0,y_0)}{\\partial y}(y-y_0)$$\n",
    "\n",
    "ausrechnen.\n",
    "* Sie kennen die **notwendige Bedingung für einen Extremwert** der skalarwertigen Funktion $f(x,y)$\n",
    "\n",
    "$$\\frac{\\partial f(x_0, y_0)}{\\partial x} = 0 \\quad \\text{ und } \\quad \\frac{\\partial f(x_0,y_0)}{\\partial y} = 0.$$\n",
    "\n",
    "* Sie können die **Hesse-Matrix** einer Funktion ausrechnen.\n",
    "* Sie kennen die **hinreichende Bedingung für einen Extremwert** der skalarwertigen Funktion $f(x,y)$, nämlich\n",
    "    * Die partiellen Ableitungen 1. Ordnung verschwinden in $(x_0,y_0)$, d.h.\n",
    "    \n",
    "    $$\\frac{\\partial f(x_0, y_0)}{\\partial x} = 0 \\quad \\text{ und } \\quad \\frac{\\partial f(x_0,y_0)}{\\partial y} = 0.$$\n",
    "    \n",
    "    * Die partiellen Ableitungen 2. Ordnung genügen der Ungleichung (= Determinante der Hesse-Matrix)\n",
    "    \n",
    "$$\\det(H_f(x_0,y_0)) = \\frac{\\partial^2 f(x_0,y_0)}{\\partial x\\partial x}\\cdot \\frac{\\partial^2 f(x_0,y_0)}{\\partial y \\partial y} - \\left(\\frac{\\partial^2 f(x_0,y_0}{\\partial x \\partial y}\\right)^2 > 0.$$\n",
    "\n",
    "* Das Vorzeichen von $\\frac{\\partial^2 f(x_0,y_0)}{\\partial x\\partial x}$ entscheidet dann über die Art des Extremwerts:\n",
    "\\begin{align*}\n",
    "\\frac{\\partial^2 f(x_0,y_0)}{\\partial x\\partial x} < 0 & \\qquad \\Rightarrow \\text{relatives Maximum} \\\\\n",
    "\\frac{\\partial^2 f(x_0,y_0)}{\\partial x\\partial x} > 0 & \\qquad \\Rightarrow \\text{relatives Minimum} \\\\\n",
    "\\end{align*}\n",
    "```"
   ]
  },
  {
   "cell_type": "markdown",
   "id": "2ce56fc9-d611-4cf6-bc0c-ec9793ca5001",
   "metadata": {},
   "source": [
    "## Linearisierung/Tangentialebene\n",
    "\n",
    "Ziel dieses Abschnitts ist es, eine skalarwertige Funktion $f(x,y)$ in einem Arbeitspunkt $(x_0,y_0)$ zu **linearisieren** oder anders ausgedrückt, ihre **Tangentialebene**\n",
    "\n",
    "\n",
    "$$T_{f,1}(x,y) = f(x_0,y_0) + \\frac{\\partial f(x_0,y_0)}{\\partial x} (x-x_0) + \\frac{\\partial f(x_0,y_0)}{\\partial y}(y-y_0)$$\n",
    "\n",
    "auszurechnen.\n",
    "\n",
    "Mit Hilfe des Gradienten können wir die Gleichung der Tangentialebene auch vektoriell schreiben\n",
    "\n",
    "\n",
    "$$T_{f,1}(x,y) = f(x_0,y_0) + \\nabla f(x,y)\\cdot \\begin{pmatrix}x-x_0\\\\y-y_0\\end{pmatrix}.$$\n",
    "\n",
    "In dem folgenden Video wird gezeigt, wie aus der Formel für das Taylor-Polynom Grad 1 für eindimensionale Funktionen die Formel für mehrdimensionale Funktionen entsteht."
   ]
  },
  {
   "cell_type": "code",
   "execution_count": 2,
   "id": "ac9d0f7e-4e84-43e6-a5cb-1fefc039c5d2",
   "metadata": {
    "tags": [
     "remove-input"
    ]
   },
   "outputs": [
    {
     "data": {
      "text/html": [
       "\n",
       "        <iframe\n",
       "            width=\"560\"\n",
       "            height=\"315\"\n",
       "            src=\"https://www.youtube.com/embed/RFbjuIDKHG0\"\n",
       "            frameborder=\"0\"\n",
       "            allowfullscreen\n",
       "            \n",
       "        ></iframe>\n",
       "        "
      ],
      "text/plain": [
       "<IPython.lib.display.IFrame at 0x10be448b0>"
      ]
     },
     "execution_count": 2,
     "metadata": {},
     "output_type": "execute_result"
    }
   ],
   "source": [
    "IFrame(width=560, height=315, src=\"https://www.youtube.com/embed/RFbjuIDKHG0\")"
   ]
  },
  {
   "cell_type": "markdown",
   "id": "24def8bf-6912-4c9c-93d4-124b12ff2ae4",
   "metadata": {},
   "source": [
    "In dem folgenden Video wird ein Beispiel zur Berechnung der Tangentialebene vorgeführt."
   ]
  },
  {
   "cell_type": "code",
   "execution_count": 3,
   "id": "a928a091-6df3-4208-b835-7129752d8561",
   "metadata": {
    "tags": [
     "remove-input"
    ]
   },
   "outputs": [
    {
     "data": {
      "text/html": [
       "\n",
       "        <iframe\n",
       "            width=\"560\"\n",
       "            height=\"315\"\n",
       "            src=\"https://www.youtube.com/embed/Cms3lsrG0cM\"\n",
       "            frameborder=\"0\"\n",
       "            allowfullscreen\n",
       "            \n",
       "        ></iframe>\n",
       "        "
      ],
      "text/plain": [
       "<IPython.lib.display.IFrame at 0x10be44eb0>"
      ]
     },
     "execution_count": 3,
     "metadata": {},
     "output_type": "execute_result"
    }
   ],
   "source": [
    "IFrame(width=560, height=315, src=\"https://www.youtube.com/embed/Cms3lsrG0cM\")"
   ]
  },
  {
   "cell_type": "markdown",
   "id": "0008b758-cbdb-4ac4-9d78-4eaa54d504fb",
   "metadata": {},
   "source": [
    "## Extremwerte bei 1D-Funktionen: notwendige Bedingung und hinreichende Bedingung\n",
    "\n",
    "Um herauszufinden, welche x-Werte als Extrema (Maximum/Hochpunkt oder Minimum/Tiefpunkt) möglich sind, wird die 1. Ableitung Null gesetzt:\n",
    "\n",
    "$$f'(x)=0.$$\n",
    "\n",
    "Diese Bedingung ist *notwendig*, damit überhaupt ein Maximum oder Minimum vorliegen kann. Leider reicht diese Bedingung noch nicht aus. Alle Nullstellen der 1. Ableitung sind *mögliche* Extrema, es könnten aber auch Sattelpunkte sein wie in der folgenden Abbildung der Funktion $f(x)=x^3$:"
   ]
  },
  {
   "cell_type": "markdown",
   "id": "fc5db59d-676c-47ce-9a21-31eb569e7233",
   "metadata": {},
   "source": [
    "```{figure} pics/part08_sattelpunkt1D.svg\n",
    "---\n",
    "width: 300px\n",
    "name: fig_part06_sattelpunkt1D\n",
    "---\n",
    "Sattelpunkt\n",
    "```"
   ]
  },
  {
   "cell_type": "markdown",
   "id": "767b916a-2d8d-4bcf-8e79-d1ba9b424a31",
   "metadata": {},
   "source": [
    "Daher müssen wir noch zusätzliche Bedingungen überprüfen, bevor wir entscheiden können, ob ein Minimum oder Maximum vorliegt. Die möglichen Extremwerte müssen noch zusätzlich mit der 2. Ableitung geprüft werden:\n",
    "\n",
    "* Der Punkt $\\tilde{x}$ ist ein **Maximum/Hochpunkt**, wenn\n",
    "    * die 1. Ableitung Null ist, d.h. $f'(\\tilde{x})=0$ und\n",
    "    * die 2. Ableitung **negativ** ist, d.h. $f''(\\tilde{x}) < 0$. \n",
    "* Der Punkt $\\tilde{x}$ ist ein **Minimum/Tiefpunkt**, wenn\n",
    "    * die 1. Ableitung Null ist, d.h. $f'(\\tilde{x})=0$ und\n",
    "    * die 2. Ableitung **positiv** ist, d.h. $f''(\\tilde{x}) > 0$.\n",
    "    \n",
    "Diese beiden Bedingungen nennt man dann **hinreichende** Bedingungen. Wenn allerdings die zweite Ableitung Null ist, also $f''(\\tilde{x})=0$, kann man keine Entscheidung treffen und muss weitere Bedingungen überprüfen.\n"
   ]
  },
  {
   "cell_type": "markdown",
   "id": "3851e9d6-9213-4690-b8ba-1d3e108ce7a3",
   "metadata": {},
   "source": [
    "## Extremwerte bei mehrdimensionalen Funktionen: notwendige Bedingung\n",
    "\n",
    "Die notwendige Bedingung für Extremwerte eindimensionaler Funktion lässt sich sofort auf mehrdimensionale Funktionen übertragen. Wir müssen uns nur in Erinnerung rufen, dass die 1. Ableitung eindimensionaler Funktionen dem Gradienten entspricht. Und da der Gradient der Zeilenvektor ist, der alle partielle Ableitungen zusammenfasst, lautet die **notwendige Bedingung für einen Extremwert** der skalarwertigen Funktion $f(x,y)$\n",
    "\n",
    "$$\\frac{\\partial f(\\tilde{x}, \\tilde{y})}{\\partial x} = 0 \\quad \\text{ und } \\quad \\frac{\\partial f(\\tilde{x},\\tilde{y})}{\\partial y} = 0.$$\n",
    "\n",
    "Diese Gleichung können wir auch vektoriell schreiben:\n",
    "\n",
    "$$\\nabla f(\\tilde{x},\\tilde{y}) = \\left( \\frac{\\partial f(\\tilde{x}, \\tilde{y})}{\\partial x},\\frac{\\partial f(\\tilde{x},\\tilde{y})}{\\partial y}\\right) = (0,0).$$\n",
    "\n",
    "Der Gradient der Funktion muss der Nullvektor sein, so wie die 1. Ableitung Null sein muss.\n"
   ]
  },
  {
   "cell_type": "code",
   "execution_count": 7,
   "id": "ef3b1dab-82c7-4147-be87-38dc98a4f027",
   "metadata": {
    "tags": [
     "remove-input"
    ]
   },
   "outputs": [
    {
     "data": {
      "text/html": [
       "\n",
       "        <iframe\n",
       "            width=\"560\"\n",
       "            height=\"315\"\n",
       "            src=\"https://www.youtube.com/embed/A_f5qpyl0bk\"\n",
       "            frameborder=\"0\"\n",
       "            allowfullscreen\n",
       "            \n",
       "        ></iframe>\n",
       "        "
      ],
      "text/plain": [
       "<IPython.lib.display.IFrame at 0x10bf36b80>"
      ]
     },
     "execution_count": 7,
     "metadata": {},
     "output_type": "execute_result"
    }
   ],
   "source": [
    "IFrame(width=560, height=315, src=\"https://www.youtube.com/embed/A_f5qpyl0bk\")"
   ]
  },
  {
   "cell_type": "markdown",
   "id": "815b3f61-ea92-43cf-a859-ee1c20676944",
   "metadata": {},
   "source": [
    "Hier ein Video, bei dem Beispiele vorgerechnet werden:"
   ]
  },
  {
   "cell_type": "code",
   "execution_count": 8,
   "id": "43aca0cc-39bb-4265-943f-5664d1902377",
   "metadata": {
    "tags": [
     "remove-input"
    ]
   },
   "outputs": [
    {
     "data": {
      "text/html": [
       "\n",
       "        <iframe\n",
       "            width=\"560\"\n",
       "            height=\"315\"\n",
       "            src=\"https://www.youtube.com/embed/AMYCKnbgU3s\"\n",
       "            frameborder=\"0\"\n",
       "            allowfullscreen\n",
       "            \n",
       "        ></iframe>\n",
       "        "
      ],
      "text/plain": [
       "<IPython.lib.display.IFrame at 0x10bf36bb0>"
      ]
     },
     "execution_count": 8,
     "metadata": {},
     "output_type": "execute_result"
    }
   ],
   "source": [
    "IFrame(width=560, height=315, src=\"https://www.youtube.com/embed/AMYCKnbgU3s\")"
   ]
  },
  {
   "cell_type": "markdown",
   "id": "0672f9de-1f05-408f-8b54-606b3043f01e",
   "metadata": {},
   "source": [
    "## Hesse-Matrix\n",
    "\n",
    "Wenn der Gradient das Analogon zur 1. Ableitung ist, gibt es dann etwas Ähnliches für die 2. Ableitung? Ja, allerdings wird es dann eine Matrix, die die 2. partiellen Ableitungen zusammenfasst, die sogenannte **Hesse-Matrix**."
   ]
  },
  {
   "cell_type": "code",
   "execution_count": 9,
   "id": "487e326d-c672-4f19-be7f-245e969fe08d",
   "metadata": {
    "tags": [
     "remove-input"
    ]
   },
   "outputs": [
    {
     "data": {
      "text/html": [
       "\n",
       "        <iframe\n",
       "            width=\"560\"\n",
       "            height=\"315\"\n",
       "            src=\"https://www.youtube.com/embed/4Vy4HDLU7nU\"\n",
       "            frameborder=\"0\"\n",
       "            allowfullscreen\n",
       "            \n",
       "        ></iframe>\n",
       "        "
      ],
      "text/plain": [
       "<IPython.lib.display.IFrame at 0x10bf36d30>"
      ]
     },
     "execution_count": 9,
     "metadata": {},
     "output_type": "execute_result"
    }
   ],
   "source": [
    "IFrame(width=560, height=315, src=\"https://www.youtube.com/embed/4Vy4HDLU7nU\")"
   ]
  },
  {
   "cell_type": "markdown",
   "id": "6d2e9d57-535a-4f3a-9f18-0c1d6c750133",
   "metadata": {},
   "source": [
    "## Extremwerte bei mehrdimensionalen Funktionen: hinreichende Bedingung\n",
    "\n",
    "Wenn die notwendige Bedingung erfüllt ist, also die partiellen Ableitungen 1. Ordnung verschwinden in $(x_0,y_0)$, dann reicht das noch nicht aus. Zusätzlich muss noch die folgende **hinreichende Bedingung** gelten:\n",
    "\n",
    "* Die **Determinante der Hesse-Matrix ist positiv**\n",
    "\n",
    "$$\\det(H_f\\,(x_0,y_0)) = \\frac{\\partial^2 f(x_0,y_0)}{\\partial x\\partial x}\\cdot \\frac{\\partial^2 f(x_0,y_0)}{\\partial y \\partial y} \n",
    "- \\left(\\frac{\\partial^2 f(x_0,y_0)}{\\partial x \\partial y}\\right)^2 > 0.$$\n",
    "\n",
    "* Das Vorzeichen von $\\frac{\\partial^2 f(x_0,y_0)}{\\partial x\\partial x}$ entscheidet dann über die Art des Extremwerts:\n",
    "\n",
    "\\begin{align*}\n",
    "\\frac{\\partial^2 f(x_0,y_0)}{\\partial x\\partial x} \\textbf{< 0} & \\qquad \\Rightarrow \\text{Maximum} \\\\\n",
    "\\frac{\\partial^2 f(x_0,y_0)}{\\partial x\\partial x} \\textbf{> 0} & \\qquad \\Rightarrow \\text{Minimum} \\\\\n",
    "\\end{align*}\n"
   ]
  },
  {
   "cell_type": "code",
   "execution_count": 10,
   "id": "eb01878c-aeab-446e-acaa-9befcf22232f",
   "metadata": {
    "tags": [
     "remove-input"
    ]
   },
   "outputs": [
    {
     "data": {
      "text/html": [
       "\n",
       "        <iframe\n",
       "            width=\"560\"\n",
       "            height=\"315\"\n",
       "            src=\"https://www.youtube.com/embed/eT0nrz_Mujo\"\n",
       "            frameborder=\"0\"\n",
       "            allowfullscreen\n",
       "            \n",
       "        ></iframe>\n",
       "        "
      ],
      "text/plain": [
       "<IPython.lib.display.IFrame at 0x10bf36e50>"
      ]
     },
     "execution_count": 10,
     "metadata": {},
     "output_type": "execute_result"
    }
   ],
   "source": [
    "IFrame(width=560, height=315, src=\"https://www.youtube.com/embed/eT0nrz_Mujo\")"
   ]
  },
  {
   "cell_type": "markdown",
   "id": "3b4af787-0539-4fb0-b639-5012499be977",
   "metadata": {},
   "source": [
    "## Kochrezept zur Bestimmung der Extrema mehrdimensionaler Funktionen\n",
    "\n",
    "1. Berechne die partiellen Ableitungen der Funktion.\n",
    "2. Setze aus den partiellen Ableitungen den Gradienten zusammen.\n",
    "3. Löse die Gleichung $\\nabla f(x,y) = (0,0)$.\n",
    "4. Untersuche für **jeden** Punkt aus Schritt 3 die Hessematrix:\n",
    "\n",
    "    * Berechne die Hesse-Matrix für diesen Punkt.\n",
    "    * Berechne die Determinante der Hesse-Matrix für diesen Punkt und prüfe, ob sie positiv ist.\n",
    "    * Wenn die Determinante positiv ist, dann berechne das Vorzeichen von \n",
    "    \n",
    "    $$\\frac{\\partial^2 f(x_0,y_0)}{\\partial x\\partial x}.$$\n",
    "    \n",
    "    * Entscheide anhand des Vorzeichens, ob ein Minimum oder ein Maximum vorliegt.\n"
   ]
  },
  {
   "cell_type": "code",
   "execution_count": 11,
   "id": "d32cb517-98ad-440e-8ec4-187a6b94dba9",
   "metadata": {
    "tags": [
     "remove-input"
    ]
   },
   "outputs": [
    {
     "data": {
      "text/html": [
       "\n",
       "        <iframe\n",
       "            width=\"560\"\n",
       "            height=\"315\"\n",
       "            src=\"https://www.youtube.com/embed/8IF5uLY7Gwk\"\n",
       "            frameborder=\"0\"\n",
       "            allowfullscreen\n",
       "            \n",
       "        ></iframe>\n",
       "        "
      ],
      "text/plain": [
       "<IPython.lib.display.IFrame at 0x10bf369a0>"
      ]
     },
     "execution_count": 11,
     "metadata": {},
     "output_type": "execute_result"
    }
   ],
   "source": [
    "IFrame(width=560, height=315, src=\"https://www.youtube.com/embed/8IF5uLY7Gwk\")"
   ]
  },
  {
   "cell_type": "markdown",
   "id": "5837bd5f-f2ad-466b-abb6-d707d961f2a4",
   "metadata": {},
   "source": [
    "## Ausführliches Beispiel"
   ]
  },
  {
   "cell_type": "code",
   "execution_count": 12,
   "id": "2d56721d-cfd1-48cd-81f4-4217aa84b5d9",
   "metadata": {
    "tags": [
     "remove-input"
    ]
   },
   "outputs": [
    {
     "data": {
      "text/html": [
       "\n",
       "        <iframe\n",
       "            width=\"560\"\n",
       "            height=\"315\"\n",
       "            src=\"https://www.youtube.com/embed/GwyPVdoQ37g\"\n",
       "            frameborder=\"0\"\n",
       "            allowfullscreen\n",
       "            \n",
       "        ></iframe>\n",
       "        "
      ],
      "text/plain": [
       "<IPython.lib.display.IFrame at 0x10be66cd0>"
      ]
     },
     "execution_count": 12,
     "metadata": {},
     "output_type": "execute_result"
    }
   ],
   "source": [
    "IFrame(width=560, height=315, src=\"https://www.youtube.com/embed/GwyPVdoQ37g\")"
   ]
  }
 ],
 "metadata": {
  "kernelspec": {
   "display_name": "Python 3 (ipykernel)",
   "language": "python",
   "name": "python3"
  },
  "language_info": {
   "codemirror_mode": {
    "name": "ipython",
    "version": 3
   },
   "file_extension": ".py",
   "mimetype": "text/x-python",
   "name": "python",
   "nbconvert_exporter": "python",
   "pygments_lexer": "ipython3",
   "version": "3.9.12"
  }
 },
 "nbformat": 4,
 "nbformat_minor": 5
}
