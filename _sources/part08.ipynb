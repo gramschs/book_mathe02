{
 "cells": [
  {
   "cell_type": "markdown",
   "id": "6000ae5e-f2c1-4320-b691-e456481d6eea",
   "metadata": {},
   "source": [
    "# Linearisierung/Tangentialebene und Extremwerte"
   ]
  },
  {
   "cell_type": "markdown",
   "id": "138b1b23-06bb-4ccc-b5c6-0debed133072",
   "metadata": {},
   "source": [
    "## Lernziele\n",
    "\n",
    "```{admonition} Lernziele\n",
    ":class: tip\n",
    "* Sie können eine skalarwertige Funktion $f(x,y)$ in einem Arbeitspunkt $(x_0,y_0)$ **linearisieren** oder anders ausgedrückt, ihre **Tangentialebene**\n",
    "\n",
    "$$T_1(x,y) = f(x_0,y_0) + \\frac{\\partial f(x_0,y_0)}{\\partial x} (x-x_0) + \\frac{\\partial f(x_0,y_0)}{\\partial y}(y-y_0)$$\n",
    "\n",
    "ausrechnen.\n",
    "* Sie kennen die **notwendige Bedingung für einen Extremwert** der skalarwertigen Funktion $f(x,y)$\n",
    "\n",
    "$$\\frac{\\partial f(x_0, y_0)}{\\partial x} = 0 \\quad \\text{ und } \\quad \\frac{\\partial f(x_0,y_0)}{\\partial y} = 0.$$\n",
    "\n",
    "* Sie können die **Hesse-Matrix** einer Funktion ausrechnen.\n",
    "* Sie kennen die **hinreichende Bedingung für einen Extremwert** der skalarwertigen Funktion $f(x,y)$, nämlich\n",
    "    * Die partiellen Ableitungen 1. Ordnung verschwinden in $(x_0,y_0)$, d.h.\n",
    "    \n",
    "    $$\\frac{\\partial f(x_0, y_0)}{\\partial x} = 0 \\quad \\text{ und } \\quad \\frac{\\partial f(x_0,y_0)}{\\partial y} = 0.$$\n",
    "    \n",
    "    * Die partiellen Ableitungen 2. Ordnung genügen der Ungleichung (= Determinante der Hesse-Matrix)\n",
    "    \n",
    "$$\\det(H_f(x_0,y_0)) = \\frac{\\partial^2 f(x_0,y_0)}{\\partial x\\partial x}\\cdot \\frac{\\partial^2 f(x_0,y_0)}{\\partial y \\partial y} - \\left(\\frac{\\partial^2 f(x_0,y_0}{\\partial x \\partial y}\\right)^2 > 0.$$\n",
    "\n",
    "* Das Vorzeichen von $\\frac{\\partial^2 f(x_0,y_0)}{\\partial x\\partial x}$ entscheidet dann über die Art des Extremwerts:\n",
    "\\begin{align*}\n",
    "\\frac{\\partial^2 f(x_0,y_0)}{\\partial x\\partial x} < 0 & \\qquad \\Rightarrow \\text{relatives Maximum} \\\\\n",
    "\\frac{\\partial^2 f(x_0,y_0)}{\\partial x\\partial x} > 0 & \\qquad \\Rightarrow \\text{relatives Minimum} \\\\\n",
    "\\end{align*}\n",
    "```"
   ]
  }
 ],
 "metadata": {
  "kernelspec": {
   "display_name": "Python 3 (ipykernel)",
   "language": "python",
   "name": "python3"
  },
  "language_info": {
   "codemirror_mode": {
    "name": "ipython",
    "version": 3
   },
   "file_extension": ".py",
   "mimetype": "text/x-python",
   "name": "python",
   "nbconvert_exporter": "python",
   "pygments_lexer": "ipython3",
   "version": "3.9.12"
  }
 },
 "nbformat": 4,
 "nbformat_minor": 5
}
