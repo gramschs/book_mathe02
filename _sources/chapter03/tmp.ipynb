{
 "cells": [
  {
   "cell_type": "code",
   "execution_count": 4,
   "metadata": {},
   "outputs": [
    {
     "name": "stdout",
     "output_type": "stream",
     "text": [
      "547.5\n",
      "599.5125\n",
      "656.4661875\n"
     ]
    }
   ],
   "source": [
    "K0 = 500\n",
    "p = 9.5\n",
    "\n",
    "K1 = 500 + p/100 * K0\n",
    "print(K1)\n",
    "\n",
    "K2 = K1 + p/100 * K1\n",
    "print(K2)\n",
    "\n",
    "K3 = K2 + p/100 * K2\n",
    "print(K3)"
   ]
  },
  {
   "cell_type": "code",
   "execution_count": 5,
   "metadata": {},
   "outputs": [
    {
     "data": {
      "text/plain": [
       "52.0125"
      ]
     },
     "execution_count": 5,
     "metadata": {},
     "output_type": "execute_result"
    }
   ],
   "source": [
    "p/100 * K1"
   ]
  }
 ],
 "metadata": {
  "kernelspec": {
   "display_name": "python39",
   "language": "python",
   "name": "python3"
  },
  "language_info": {
   "codemirror_mode": {
    "name": "ipython",
    "version": 3
   },
   "file_extension": ".py",
   "mimetype": "text/x-python",
   "name": "python",
   "nbconvert_exporter": "python",
   "pygments_lexer": "ipython3",
   "version": "3.9.15"
  },
  "orig_nbformat": 4
 },
 "nbformat": 4,
 "nbformat_minor": 2
}
