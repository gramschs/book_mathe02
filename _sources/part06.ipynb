{
 "cells": [
  {
   "cell_type": "code",
   "execution_count": 1,
   "id": "ca92b858-dc84-4592-afb5-eea010b962f1",
   "metadata": {
    "tags": [
     "remove-input"
    ]
   },
   "outputs": [],
   "source": [
    "from IPython.display import HTML, IFrame, Image"
   ]
  },
  {
   "cell_type": "markdown",
   "id": "75602668-244d-4d10-96e5-89a59588a4e8",
   "metadata": {},
   "source": [
    "# Funktionen von mehreren Variablen und partielle Ableitungen\n",
    "\n",
    "Bisher haben wir nur Funktionen kennengelernt, bei denen eine reelle Zahl in die Funktionsvorschrift hineingesteckt wurde und eine reelle Zahl herauskam. Die mathematische Schreibweise dafür ist $f:\\mathbb{R}\\rightarrow\\mathbb{R}$.\n",
    "\n",
    "Doch die Welt ist nicht so eindimensional. Die folgende Abbildung zeigt die durchschnittliche Solarstrahlung in Deutschland. Dies ist mathematisch gesehen eine Funktion von mehereren Variablen, nämlich Längen- und Breitengrad, also $f:\\mathbb{R}^2\\rightarrow\\mathbb{R}$.\n",
    "\n",
    "```{figure} pics/part06_solar_map.png\n",
    "---\n",
    "width: 600px\n",
    "name: fig_part06_solar_map\n",
    "---\n",
    "Solarstrahlung in Deutschland\n",
    "\n",
    "([Quelle:](https://commons.wikimedia.org/wiki/File:SolarGIS-Solar-map-Germany-de.png) \"Solar Radiation Map: Globalstrahlung Deutschland, SolarGIS 2011\", Autor: SolarGIS Lizenz: [CC BY-SA 3.0](https://creativecommons.org/licenses/by-sa/3.0/))\n",
    "```\n",
    "\n",
    "In diesem Part werden wir uns zunächst mehrdimensionale Funktionen ansehen und uns erarbeiten, was in diesem Zusammenhang partielle Ableitungen sind.\n"
   ]
  },
  {
   "cell_type": "markdown",
   "id": "dab168ed-a4a3-42b5-b560-bc4189d9641c",
   "metadata": {},
   "source": [
    "## Lernziele\n",
    "\n",
    "```{admonition} Lernziele\n",
    ":class: tip\n",
    "* Sie können erklären, was eine **Funktion von mehreren unabhängigen Variablen** ist. \n",
    "* Sie können eine Funktion $f:\\mathbb{R} \\times \\mathbb{R} \\rightarrow \\mathbb{R}$ als Fläche im Raum zeichnen.\n",
    "* Sie können die **Schnittkurvendiagramme** einer Funktion $z = f(x,y)$ zeichnen.\n",
    "* Sie können die **partiellen Ableitungen** einer Funktion berechnen.\n",
    "* Sie wissen, wann es erlaubt ist, die Differentiationsreihenfolge zu vertauschen (Stichwort: **Satz von Schwarz**).\n",
    "```"
   ]
  },
  {
   "cell_type": "markdown",
   "id": "ea8705b8-4bea-4044-965b-557141582ed3",
   "metadata": {},
   "source": [
    "## Mehrdimensionale Funktionen"
   ]
  },
  {
   "cell_type": "code",
   "execution_count": 2,
   "id": "1d9e8a8a-9a41-4a34-b4e8-939253b1fe91",
   "metadata": {
    "tags": [
     "remove-input"
    ]
   },
   "outputs": [
    {
     "data": {
      "text/html": [
       "\n",
       "        <iframe\n",
       "            width=\"560\"\n",
       "            height=\"315\"\n",
       "            src=\"https://www.youtube.com/embed/gV5zjtVHIWE\"\n",
       "            frameborder=\"0\"\n",
       "            allowfullscreen\n",
       "            \n",
       "        ></iframe>\n",
       "        "
      ],
      "text/plain": [
       "<IPython.lib.display.IFrame at 0x108d32850>"
      ]
     },
     "execution_count": 2,
     "metadata": {},
     "output_type": "execute_result"
    }
   ],
   "source": [
    "IFrame(width=560, height=315, src=\"https://www.youtube.com/embed/gV5zjtVHIWE\")"
   ]
  },
  {
   "cell_type": "markdown",
   "id": "c8682f87-d601-40bb-9bf7-6835e476781e",
   "metadata": {},
   "source": [
    "Leider ist es gar nicht so einfach, Funktionen von mehreren Variablen zu zeichnen. Eine Funktion von zwei Variablen kann man noch ganz gut zeichnen, indem man beispielsweise die Funktionswerte durch Farben darstellt oder die Funktionswerte als Höhe (z-Achse) einzeichnet. Bei drei und gar mehr Variablen klappt es mit Zeichnungen nicht mehr."
   ]
  },
  {
   "cell_type": "code",
   "execution_count": 4,
   "id": "b8097801-1144-4e3e-89f5-5d73c33a73a0",
   "metadata": {
    "tags": [
     "remove-input"
    ]
   },
   "outputs": [
    {
     "data": {
      "text/html": [
       "\n",
       "        <iframe\n",
       "            width=\"560\"\n",
       "            height=\"315\"\n",
       "            src=\"https://www.youtube.com/embed/oJdN_Ics6qs\"\n",
       "            frameborder=\"0\"\n",
       "            allowfullscreen\n",
       "            \n",
       "        ></iframe>\n",
       "        "
      ],
      "text/plain": [
       "<IPython.lib.display.IFrame at 0x108d7de80>"
      ]
     },
     "execution_count": 4,
     "metadata": {},
     "output_type": "execute_result"
    }
   ],
   "source": [
    "IFrame(width=560, height=315, src=\"https://www.youtube.com/embed/oJdN_Ics6qs\")"
   ]
  },
  {
   "cell_type": "markdown",
   "id": "3ac01dd8-4d87-454c-b37a-620add78be26",
   "metadata": {},
   "source": [
    "## Partielle Ableitungen\n",
    "\n",
    "Was genau meint jetzt wiederum der Fachbegriff partiell? Partiell heißt ja auf deutsch teilweise, vielleicht ist Ihnen der Begriff von einer partiellen Sonnenfinsternis geläufig. Bei Funktionen von mehreren Variablen ist der Ableitungsbegriff komplizierter als bei Funktionen von einer Variable, wie in dem folgenden Video erklärt wird."
   ]
  },
  {
   "cell_type": "code",
   "execution_count": 5,
   "id": "f1874f97-beac-4d8a-be57-31037219fe48",
   "metadata": {
    "tags": [
     "remove-input"
    ]
   },
   "outputs": [
    {
     "data": {
      "text/html": [
       "\n",
       "        <iframe\n",
       "            width=\"560\"\n",
       "            height=\"315\"\n",
       "            src=\"https://www.youtube.com/embed/4ppZE30P2Yw\"\n",
       "            frameborder=\"0\"\n",
       "            allowfullscreen\n",
       "            \n",
       "        ></iframe>\n",
       "        "
      ],
      "text/plain": [
       "<IPython.lib.display.IFrame at 0x108d10c70>"
      ]
     },
     "execution_count": 5,
     "metadata": {},
     "output_type": "execute_result"
    }
   ],
   "source": [
    "IFrame(width=560, height=315, src=\"https://www.youtube.com/embed/4ppZE30P2Yw\")"
   ]
  },
  {
   "cell_type": "markdown",
   "id": "022066cf-4e11-4b0a-9bc5-dd47043bc038",
   "metadata": {},
   "source": [
    "Die partielle Ableitung wird also gebildet, indem nur eine der mehreren Variablen als echte Variable angesehen wird und die übrigen Variablen als Konstanten aufgefasst werden. "
   ]
  },
  {
   "cell_type": "markdown",
   "id": "9fea3588-e759-4759-9155-4601206b6156",
   "metadata": {},
   "source": [
    "\n",
    "````{prf:definition}\n",
    ":label: def:06:01\n",
    "Die partielle Ableitung der Funktion $f(x,y)$ nach $x$ an der Stelle $(x_0,y_0)$ ist definiert als\n",
    "\n",
    "$$\\frac{\\partial f}{\\partial x}(x_0,y_0) = \\lim_{\\Delta x\\rightarrow 0}\\frac{f(x_0+\\Delta x, y_0) - f(x_0, y_0)}{\\Delta x}.$$\n",
    "\n",
    "Die partielle Ableitung der Funktion $f(x,y)$ nach $y$ an der Stelle $(x_0,y_0)$ ist definiert als\n",
    "\n",
    "$$\\frac{\\partial f}{\\partial y}(x_0,y_0) = \\lim_{\\Delta y \\rightarrow 0}\\frac{f(x_0, y_0 +\\Delta y) - f(x_0, y_0)}{\\Delta y}.$$\n",
    "\n",
    "Falls die Funktion von mehr als zwei Variablen abhängt, wird dieses Schema fortgeführt.\n",
    "````"
   ]
  },
  {
   "cell_type": "code",
   "execution_count": 9,
   "id": "e5b22ef1-6352-4549-a2ab-3a142699d518",
   "metadata": {
    "tags": [
     "remove-input"
    ]
   },
   "outputs": [
    {
     "data": {
      "text/html": [
       "\n",
       "        <iframe\n",
       "            width=\"560\"\n",
       "            height=\"315\"\n",
       "            src=\"https://www.youtube.com/embed/KqpLPQvboPY\"\n",
       "            frameborder=\"0\"\n",
       "            allowfullscreen\n",
       "            \n",
       "        ></iframe>\n",
       "        "
      ],
      "text/plain": [
       "<IPython.lib.display.IFrame at 0x108db6b20>"
      ]
     },
     "execution_count": 9,
     "metadata": {},
     "output_type": "execute_result"
    }
   ],
   "source": [
    "IFrame(width=560, height=315, src=\"https://www.youtube.com/embed/KqpLPQvboPY\")"
   ]
  },
  {
   "cell_type": "markdown",
   "id": "30ad4db0-22d8-4a6d-9bae-60ccc5366371",
   "metadata": {},
   "source": [
    "## Beispiele für das partielle Ableiten\n",
    "\n",
    "Die folgenden Videos zeigen Beispiele für das Berechnen der partiellen Ableitungen.\n"
   ]
  },
  {
   "cell_type": "code",
   "execution_count": 10,
   "id": "66246d60-51c8-47d6-a1af-c240cef17afb",
   "metadata": {
    "tags": [
     "remove-input"
    ]
   },
   "outputs": [
    {
     "data": {
      "text/html": [
       "\n",
       "        <iframe\n",
       "            width=\"560\"\n",
       "            height=\"315\"\n",
       "            src=\"https://www.youtube.com/embed/9R8xrRuWyTw\"\n",
       "            frameborder=\"0\"\n",
       "            allowfullscreen\n",
       "            \n",
       "        ></iframe>\n",
       "        "
      ],
      "text/plain": [
       "<IPython.lib.display.IFrame at 0x108db6af0>"
      ]
     },
     "execution_count": 10,
     "metadata": {},
     "output_type": "execute_result"
    }
   ],
   "source": [
    "IFrame(width=560, height=315, src=\"https://www.youtube.com/embed/9R8xrRuWyTw\")"
   ]
  },
  {
   "cell_type": "code",
   "execution_count": 11,
   "id": "4ad94089-e4cf-4787-a38c-c0efb606214a",
   "metadata": {
    "tags": [
     "remove-input"
    ]
   },
   "outputs": [
    {
     "data": {
      "text/html": [
       "\n",
       "        <iframe\n",
       "            width=\"560\"\n",
       "            height=\"315\"\n",
       "            src=\"https://www.youtube.com/embed/i59FBLtGpng\"\n",
       "            frameborder=\"0\"\n",
       "            allowfullscreen\n",
       "            \n",
       "        ></iframe>\n",
       "        "
      ],
      "text/plain": [
       "<IPython.lib.display.IFrame at 0x108db6940>"
      ]
     },
     "execution_count": 11,
     "metadata": {},
     "output_type": "execute_result"
    }
   ],
   "source": [
    "IFrame(width=560, height=315, src=\"https://www.youtube.com/embed/i59FBLtGpng\")"
   ]
  },
  {
   "cell_type": "code",
   "execution_count": 12,
   "id": "424524c3-ed0b-443c-bdf2-660df1faf49c",
   "metadata": {
    "tags": [
     "remove-input"
    ]
   },
   "outputs": [
    {
     "data": {
      "text/html": [
       "\n",
       "        <iframe\n",
       "            width=\"560\"\n",
       "            height=\"315\"\n",
       "            src=\"https://www.youtube.com/embed/N0Y9E0wdLKk\"\n",
       "            frameborder=\"0\"\n",
       "            allowfullscreen\n",
       "            \n",
       "        ></iframe>\n",
       "        "
      ],
      "text/plain": [
       "<IPython.lib.display.IFrame at 0x108db6700>"
      ]
     },
     "execution_count": 12,
     "metadata": {},
     "output_type": "execute_result"
    }
   ],
   "source": [
    "IFrame(width=560, height=315, src=\"https://www.youtube.com/embed/N0Y9E0wdLKk\")"
   ]
  },
  {
   "cell_type": "markdown",
   "id": "15ba0995-347e-47c6-bc0b-596ad238ac37",
   "metadata": {},
   "source": [
    "## Was sind höhere partielle Ableitungen?\n",
    "\n",
    "Eine eindimensionale Funktion kann man oft nicht nur einmal, sondern zweimal, dreimal, manchmal sogar unendlichmal oft ableiten. Das geht natürlich nur, wenn nach dem Ableiten eine Funktion herauskommt, die wieder ableitbar ist, sonst muss man aufhören.\n",
    "\n",
    "Bei Funktionen, die von mehreren Variablen abhängen, kann man die partiellen Ableitungen mischen. Beispielsweise leiten wir eine Funktion partiell nach x ab und die Funktion, die dadurch entstanden ist leiten wir nun partiell nach y ab. \n",
    "\n",
    "Bei zwei Variablen und partiellen Ableitungen der Ordnung 2 hätten wir dann folgende Kombinationsmöglichkeiten:\n",
    "\n",
    "* Ableitung nach x und dann Ableitung nach x \n",
    "* Ableitung nach x und dann Ableitung nach y\n",
    "* Ableitung nach y und dann Ableitung nach x\n",
    "* Ableitung nach y und dann Ableitung nach y\n",
    "\n",
    "Bei höheren partiellen Ableitungen können wir nicht einfach zwei Striche an die Funktion schreiben, sondern müssen genau angeben, in welcher Reihenfolge nach welcher Variable abgeleitet werden soll. Deshalb schreiben wir\n",
    "\n",
    "* Ableitung nach x und dann Ableitung nach x: $\\frac{\\partial^2}{\\partial x \\partial x}f(x,y)$\n",
    "* Ableitung nach x und dann Ableitung nach y: $\\frac{\\partial^2}{\\partial y \\partial x}f(x,y)$\n",
    "* Ableitung nach y und dann Ableitung nach x: $\\frac{\\partial^2}{\\partial x \\partial y}f(x,y)$\n",
    "* Ableitung nach y und dann Ableitung nach y: $\\frac{\\partial^2}{\\partial y \\partial y}f(x,y)$\n",
    "\n",
    "Die Richtung, nach der zuerst abgeleitet wird, steht weiter rechts.\n",
    "\n",
    "Wenn wir nun uns die Kombinationsmöglichkeiten für partielle Ableitungen 3. Ordnung ansehen, stellen wir fest, dass da einige Kombinationen möglich sind, genaugenommen 27. Glücklicherweise gibt es einen Trick, einige der Kombinationen kann man sich sparen. Dieser Trick wird in der Mathematik der **Satz von Schwarz** genannt. Im nächsten Video sehen Sie dazu eine Erläuterung.\n",
    "\n"
   ]
  },
  {
   "cell_type": "code",
   "execution_count": 13,
   "id": "8bd40dab-1b89-409a-ae54-f46ca0c81951",
   "metadata": {
    "tags": [
     "remove-input"
    ]
   },
   "outputs": [
    {
     "data": {
      "text/html": [
       "\n",
       "        <iframe\n",
       "            width=\"560\"\n",
       "            height=\"315\"\n",
       "            src=\"https://www.youtube.com/embed/XgkmktejS_Y\"\n",
       "            frameborder=\"0\"\n",
       "            allowfullscreen\n",
       "            \n",
       "        ></iframe>\n",
       "        "
      ],
      "text/plain": [
       "<IPython.lib.display.IFrame at 0x108db6640>"
      ]
     },
     "execution_count": 13,
     "metadata": {},
     "output_type": "execute_result"
    }
   ],
   "source": [
    "IFrame(width=560, height=315, src=\"https://www.youtube.com/embed/XgkmktejS_Y\")"
   ]
  }
 ],
 "metadata": {
  "kernelspec": {
   "display_name": "Python 3 (ipykernel)",
   "language": "python",
   "name": "python3"
  },
  "language_info": {
   "codemirror_mode": {
    "name": "ipython",
    "version": 3
   },
   "file_extension": ".py",
   "mimetype": "text/x-python",
   "name": "python",
   "nbconvert_exporter": "python",
   "pygments_lexer": "ipython3",
   "version": "3.9.12"
  }
 },
 "nbformat": 4,
 "nbformat_minor": 5
}
