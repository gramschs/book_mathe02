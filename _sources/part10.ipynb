{
 "cells": [
  {
   "cell_type": "code",
   "execution_count": 1,
   "id": "36664abb-8550-4a9e-bcf6-95b2194a303c",
   "metadata": {
    "tags": [
     "remove-input"
    ]
   },
   "outputs": [],
   "source": [
    "from IPython.display import IFrame"
   ]
  },
  {
   "cell_type": "markdown",
   "id": "6b10eb8c-ffc2-43a6-ac1e-54bfd7224970",
   "metadata": {},
   "source": [
    "# Doppelintegral in Polarkoordinaten und Dreifachintegral\n",
    "\n",
    "Im letzten Kapitel haben wir nicht thematisiert, dass das Doppelintegral in kartesischen Koordinaten berechnet wurde. In diesem Kapitel verwenden wir Polarkoordinaten und betrachten zusätzlich Dreifachintegrale."
   ]
  },
  {
   "cell_type": "markdown",
   "id": "478a02b2-ebd8-4d2d-9d50-c466a7f34253",
   "metadata": {},
   "source": [
    "## Lernziele\n",
    "\n",
    "```{admonition} Lernziele\n",
    ":class: tip\n",
    "* Sie können **Polarkoordinaten** in **kartesische Koordinaten** umrechnen.\n",
    "* Sie können ein Doppelintegral in kartesischen Koordinaten in ein Doppelintegral in Polarkoordinaten umrechnen, d.h.\n",
    "\n",
    "$$\\iint_{A}f(x,y)\\, dA = \\int_{\\varphi=\\varphi_1}^{\\varphi_2} \\int_{r=r_i(\\varphi)}^{r_a(\\varphi)}f(r\\cos(\\varphi), r\\sin(\\varphi)) \\cdot r\\, dr\\, d\\varphi.$$\n",
    "\n",
    "Die Integration erfolgt dabei in zwei Schritten, zuerst kommt die innere Integration über $r$, danach die äußere Integration über $\\varphi$.\n",
    "\n",
    "* Sie können ein **Dreifachintegral** (in kartesischen Koordinaten) berechnen.\n",
    "* Sie können mit einem Dreifachintegral das Volumen $V$ eines Körpers berechnen\n",
    "\n",
    "$$V=\\iiint_{V}1\\,dV.$$\n",
    "\n",
    "* Sie können mit drei Dreifachintegralen den Schwerpunkt $S(x_S,y_S,z_S)$ eines Körpers berechnen:\n",
    "\n",
    "$$x_S = \\frac{1}{V}\\iiint_{V}x\\, dV, \\qquad y_S = \\frac{1}{V}\\iiint_{V}y\\, dV \\qquad \\text{und} \\quad z_S = \\frac{1}{V}\\iiint_{V}z\\, dV.$$\n",
    "```"
   ]
  },
  {
   "cell_type": "markdown",
   "id": "e86e686b-83aa-47a6-a588-727df6d7dceb",
   "metadata": {},
   "source": [
    "## Polarkoordinaten\n",
    "\n",
    "Die Umrechnung von Polarkoordinaten in kartesische Koordinaten erfolgt mit den Formeln:\n",
    "\\begin{align*}\n",
    "x &= r\\cdot \\cos(\\varphi) \\\\ \n",
    "y &= r\\cdot \\sin(\\varphi)\n",
    "\\end{align*}\n",
    "\n",
    "Zur Erinnerung folgt hier eine Einführung in Polarkoordinaten:"
   ]
  },
  {
   "cell_type": "code",
   "execution_count": 5,
   "id": "64f1ac7f-40c7-424b-98d7-14361fa8d07c",
   "metadata": {
    "tags": [
     "remove-input"
    ]
   },
   "outputs": [
    {
     "data": {
      "text/html": [
       "\n",
       "        <iframe\n",
       "            width=\"560\"\n",
       "            height=\"315\"\n",
       "            src=\"https://www.youtube.com/embed/l8ZF4m0fPxM\"\n",
       "            frameborder=\"0\"\n",
       "            allowfullscreen\n",
       "            \n",
       "        ></iframe>\n",
       "        "
      ],
      "text/plain": [
       "<IPython.lib.display.IFrame at 0x109e5ba00>"
      ]
     },
     "execution_count": 5,
     "metadata": {},
     "output_type": "execute_result"
    }
   ],
   "source": [
    "IFrame(width=560, height=315, src=\"https://www.youtube.com/embed/l8ZF4m0fPxM\")"
   ]
  },
  {
   "cell_type": "markdown",
   "id": "09d15166-0867-4ff8-9356-232e6a3d5210",
   "metadata": {},
   "source": [
    "In dem folgenden Video wird gezeigt, wie eine Funktion mit Variablen in kartesischen Koordinaten in eine Funktion mit Variablen in Polarkoordinaten umgerechnet werden kann:"
   ]
  },
  {
   "cell_type": "code",
   "execution_count": 10,
   "id": "9af38942-7dc4-46be-9206-79ec6a19732c",
   "metadata": {
    "tags": [
     "remove-input"
    ]
   },
   "outputs": [
    {
     "data": {
      "text/html": [
       "\n",
       "        <iframe\n",
       "            width=\"560\"\n",
       "            height=\"315\"\n",
       "            src=\"https://www.youtube.com/embed/MCRDcJKeR20\"\n",
       "            frameborder=\"0\"\n",
       "            allowfullscreen\n",
       "            \n",
       "        ></iframe>\n",
       "        "
      ],
      "text/plain": [
       "<IPython.lib.display.IFrame at 0x109ecbe20>"
      ]
     },
     "execution_count": 10,
     "metadata": {},
     "output_type": "execute_result"
    }
   ],
   "source": [
    "IFrame(width=\"560\", height=\"315\", src=\"https://www.youtube.com/embed/MCRDcJKeR20\")"
   ]
  },
  {
   "cell_type": "markdown",
   "id": "9ddecb1e-7ef7-4aad-8913-51088deaf79c",
   "metadata": {},
   "source": [
    "In dem folgenden"
   ]
  },
  {
   "cell_type": "code",
   "execution_count": null,
   "id": "d5fdcc52-677c-4523-9975-b964cc9e5297",
   "metadata": {},
   "outputs": [],
   "source": []
  },
  {
   "cell_type": "markdown",
   "id": "0fd67ebe-dbe3-4acc-90d5-3df827ad4119",
   "metadata": {},
   "source": [
    "## Doppelintegral in Polarkoordinaten\n",
    "\n",
    "Um ein Doppelintegral in Polarkoordinaten zu berechnen, muss das Flächenelement $dA$ umgerechnet werden:\n",
    "\n",
    "$$dA = r \\, dr \\, d\\varphi.$$\n",
    "\n",
    "In dem folgenden Video wird sehr ausführlich der Flächeninhalt eines Halbkreises sowohl mit einem Doppelintegral in kartesischen Koordinaten als auch einem Doppelintegral in Polarkoordinaten erklärt. Nicht verwirren lassen, in dem Video wird das Doppelintegral Bereichsintegral genannt.\n"
   ]
  },
  {
   "cell_type": "code",
   "execution_count": 7,
   "id": "289926a8-dd58-4641-8a62-6551b56bb724",
   "metadata": {
    "tags": [
     "remove-input"
    ]
   },
   "outputs": [
    {
     "data": {
      "text/html": [
       "\n",
       "        <iframe\n",
       "            width=\"560\"\n",
       "            height=\"315\"\n",
       "            src=\"https://www.youtube.com/embed/CghdXlwr5aY\"\n",
       "            frameborder=\"0\"\n",
       "            allowfullscreen\n",
       "            \n",
       "        ></iframe>\n",
       "        "
      ],
      "text/plain": [
       "<IPython.lib.display.IFrame at 0x109ecb190>"
      ]
     },
     "execution_count": 7,
     "metadata": {},
     "output_type": "execute_result"
    }
   ],
   "source": [
    "IFrame(width=560, height=315, src=\"https://www.youtube.com/embed/CghdXlwr5aY\")"
   ]
  },
  {
   "cell_type": "markdown",
   "id": "0aa5826e-e69d-4bee-a5ef-7a5f8b503610",
   "metadata": {},
   "source": [
    "## Dreifachintegral\n",
    "\n",
    "Ein Dreifachintegral wird durch drei Integrationen berechnet:\n",
    "\n",
    "$$\\iiint_{V}f(x,y,z)\\, dV = \\int_{x=a}^{x=b} \\int_{y=g_{u}(x)}^{y=g_{o}(x)} \\int_{z = F_{u}(x,y)}^{z = F_{o}(x,y)} f(x,y,z)\\, dz \\, dy \\, dx.$$\n",
    "\n",
    "Dabei bedeuten die Bezeichnungen:\n",
    "\n",
    "* $F_{o}(x,y)$: obere Fläche \n",
    "* $F_{u}(x,y)$: untere Fläche\n",
    "* $g_{o}(x)$: obere Grenzkurve \n",
    "* $g_{u}(x)$: untere Grenzkurve\n",
    "\n",
    "wie man auch der folgenden Abbildung entnehmen kann:\n",
    "\n",
    "```{figure} pics/part10_skizze_dreifachintegral.svg\n",
    "---\n",
    "width: 600px\n",
    "name: part10_skizze_dreifachintegral\n",
    "---\n",
    "Skizze Dreifachintegral\n",
    "```\n",
    "\n",
    "In dem folgenden Video wird der Unterschied Doppelintegral zu Dreifachintegral erklärt."
   ]
  },
  {
   "cell_type": "code",
   "execution_count": 9,
   "id": "bbf2b638-13bf-412d-8a4d-4399e5d5f6e2",
   "metadata": {
    "tags": [
     "remove-input"
    ]
   },
   "outputs": [
    {
     "data": {
      "text/html": [
       "\n",
       "        <iframe\n",
       "            width=\"560\"\n",
       "            height=\"315\"\n",
       "            src=\"https://www.youtube.com/embed/Ec6xuobv8Mk\"\n",
       "            frameborder=\"0\"\n",
       "            allowfullscreen\n",
       "            \n",
       "        ></iframe>\n",
       "        "
      ],
      "text/plain": [
       "<IPython.lib.display.IFrame at 0x109e5b400>"
      ]
     },
     "execution_count": 9,
     "metadata": {},
     "output_type": "execute_result"
    }
   ],
   "source": [
    "IFrame(width=560, height=315, src=\"https://www.youtube.com/embed/Ec6xuobv8Mk\")"
   ]
  },
  {
   "cell_type": "markdown",
   "id": "203d2707-4830-42b8-b3d3-2d60243283de",
   "metadata": {},
   "source": [
    "Hier wird ein Dreifachintegral ausgerechnet, indem die drei Integrationen nacheinander durchgeführt werden:"
   ]
  },
  {
   "cell_type": "code",
   "execution_count": 8,
   "id": "71296ce6-6406-4dea-8cb1-ddaf17f0e414",
   "metadata": {
    "tags": [
     "remove-input"
    ]
   },
   "outputs": [
    {
     "data": {
      "text/html": [
       "\n",
       "        <iframe\n",
       "            width=\"560\"\n",
       "            height=\"315\"\n",
       "            src=\"https://www.youtube.com/embed/HZRAUqbVKeQ\"\n",
       "            frameborder=\"0\"\n",
       "            allowfullscreen\n",
       "            \n",
       "        ></iframe>\n",
       "        "
      ],
      "text/plain": [
       "<IPython.lib.display.IFrame at 0x109ec4280>"
      ]
     },
     "execution_count": 8,
     "metadata": {},
     "output_type": "execute_result"
    }
   ],
   "source": [
    "IFrame(width=560, height=315, src=\"https://www.youtube.com/embed/HZRAUqbVKeQ\")"
   ]
  }
 ],
 "metadata": {
  "kernelspec": {
   "display_name": "Python 3 (ipykernel)",
   "language": "python",
   "name": "python3"
  },
  "language_info": {
   "codemirror_mode": {
    "name": "ipython",
    "version": 3
   },
   "file_extension": ".py",
   "mimetype": "text/x-python",
   "name": "python",
   "nbconvert_exporter": "python",
   "pygments_lexer": "ipython3",
   "version": "3.9.12"
  }
 },
 "nbformat": 4,
 "nbformat_minor": 5
}
