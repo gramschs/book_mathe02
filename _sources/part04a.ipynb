{
 "cells": [
  {
   "cell_type": "markdown",
   "id": "826175db-b9c4-4c7e-941a-2e61c2313a9d",
   "metadata": {},
   "source": [
    "# Potenzreihen \n",
    "\n",
    "TODO"
   ]
  }
 ],
 "metadata": {
  "kernelspec": {
   "display_name": "Python 3.9.7 ('python39')",
   "language": "python",
   "name": "python397jvsc74a57bd01863971d65633e53ca5b74972b86a14fab6d597ce2ac84dc984546545d2d3a9b"
  },
  "language_info": {
   "codemirror_mode": {
    "name": "ipython",
    "version": 3
   },
   "file_extension": ".py",
   "mimetype": "text/x-python",
   "name": "python",
   "nbconvert_exporter": "python",
   "pygments_lexer": "ipython3",
   "version": "3.9.7"
  }
 },
 "nbformat": 4,
 "nbformat_minor": 5
}
