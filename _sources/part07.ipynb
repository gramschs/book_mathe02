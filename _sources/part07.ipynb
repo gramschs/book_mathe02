{
 "cells": [
  {
   "cell_type": "code",
   "execution_count": 2,
   "id": "e2278053-b191-4a13-a815-e733e67f47ac",
   "metadata": {
    "tags": [
     "remove-input"
    ]
   },
   "outputs": [],
   "source": [
    "from IPython.display import IFrame"
   ]
  },
  {
   "cell_type": "markdown",
   "id": "70cf938b-d696-4e35-b8e2-37d9938bdb6d",
   "metadata": {},
   "source": [
    "# Gradient und Jacobi-Matrix\n",
    "\n",
    "Mit den partiellen Ableitungen haben wir Ableitungen kennengelernt, die in Richtung des Achsen des Koordinatensystems gehen. In diesem Kapitel beschäftigen wir uns mit dem **Gradienten**, der die partiellen Ableitungen als Vektor zusammenfasst und sozusagen den Ersatz für die erste Ableitung bei Funktionen mit mehreren Variablen bildet.\n",
    "Als zweites Thema werden uns vektorwertige Funktionen beschäftigen. Das Analogon zur ersten Ableitung von vektorwertigen Funktionen ist die **Jacobi-Matrix**. Mit Hilfe von Jacobi-Matrizen kann die **mehrdimensionale Kettenregel** formuliert werden.\n"
   ]
  },
  {
   "cell_type": "markdown",
   "id": "384ddf59-9c5e-4a3f-b140-ffef594adaba",
   "metadata": {},
   "source": [
    "## Lernziele \n",
    "\n",
    "```{admonition} Lernziele\n",
    ":class: tip\n",
    "* Sie können den Unterschied zwischen einer **skalarwertigen Funktion** und einer **vektorwertigen Funktion** erklären.\n",
    "* Sie können den **Gradienten** einer skalarwertigen Funktion berechnen und wissen, dass man den Gradienten meist mit dem Zeichen **Nabla** $\\nabla$ abkürzt. \n",
    "* Sie können die **Jacobi-Matrix** einer vektorwertigen Funktion berechnen.\n",
    "* Sie kennen die **mehrdimensionale Kettenregel** und können sie anwenden.\n",
    "```"
   ]
  },
  {
   "cell_type": "markdown",
   "id": "7929d94e-b62a-42f2-8aa1-be162a53ee1d",
   "metadata": {},
   "source": [
    "## Skalarwertige und vektorwertige Funktionen\n",
    "\n",
    "In dem letzten Kapitel haben wir eindimensionale Funktionen $f:\\mathbb{r}\\rightarrow \\mathbb{R}$ auf mehrdimensionale Funktionen erweitert $f:\\mathbb{R}^n\\rightarrow\\mathbb{R}$ erweitert. Ein Beispiel aus dem Alltag ist die Wetterkarte mit den prognostizierten Durchschnittstemperaturen für den morgigen Tag. Zu jeder Position spezifiziert durch den Breiten- und den Längengrad gibt es eine Temperatur. Die Temperatur ist eine sogenannte **skalare Größe**, denn sie wird durch eine einzelne Zahl dargestellt. Gerade bei Unwetterwarnungen sind jedoch auch Darstellungen des Windfeldes üblich. Zu jeder Position mit Längen- und Breitengrad wird eine Windrichtung angegeben, also eine **vektorielle Größe**. In den Wetterkarten wird dazu häufig ein Pfeil eingezeichnet ähnlich zu folgenden Abbildung."
   ]
  },
  {
   "cell_type": "markdown",
   "id": "febd4ed2-984e-478d-bef8-126a4a3823a6",
   "metadata": {},
   "source": [
    "```{figure} pics/part07_vektorfeld.svg\n",
    "---\n",
    "width: 300px\n",
    "name: fig_part07_vektorfeld\n",
    "---\n",
    "Visualisierung eines Vektorfeldes ([Quelle:](https://commons.wikimedia.org/wiki/File:VectorField.svg) \"A portion of the vector field (sin y, sin x)\" von Jim.belk. Lizenz: gemeinfrei)\n",
    "```"
   ]
  },
  {
   "cell_type": "markdown",
   "id": "9bf83d99-a240-4b26-934a-79d0159d5617",
   "metadata": {},
   "source": [
    "Wir unterscheiden Funktionen also nicht nur nach der Anzahl ihrer Variablen, sondern auch danach, ob die Funktionswerte ein- oder mehrdimensional sind. Wir verwenden zur Unterschiedung der beiden Kategorien die folgenden Fachbegriffe."
   ]
  },
  {
   "cell_type": "markdown",
   "id": "e05cd19f-86ca-4d75-9901-86b106bf577c",
   "metadata": {},
   "source": [
    "````{prf:definition} Was ist ... eine skalarwertige Funktion?\n",
    ":label: def:07:01\n",
    "Eine skalarwertige Funktion ist eine Funktion, deren Funktionswerte reelle Zahlen sind. \n",
    "\n",
    "Die mathematische Notation dafür ist $f:\\mathbb{R}^m \\rightarrow \\mathbb{R}$, wobei $m$ sowohl 1 (eindimensional) als auch $\\geq 2$ (mehrdimensional) sein kann.\n",
    "````"
   ]
  },
  {
   "cell_type": "markdown",
   "id": "332f4bd8-2db7-43df-9285-8b18421aad99",
   "metadata": {},
   "source": [
    "````{prf:definition} Was ist ... eine vektorwertige Funktion?\n",
    ":label: def:07:02\n",
    "Eine vektorwertige Funktion ist eine Funktion, deren Funktionswerte Vektoren sind. \n",
    "\n",
    "Die mathematische Notation dafür ist $f:\\mathbb{R}^m \\rightarrow \\mathbb{R}^n$, wobei $m$ sowohl 1 (eindimensional) als auch $\\geq 2$ (mehrdimensional) sein kann. Aber $n$ muss mindestens 2 sein, sonst wäre es ja eine skalarwertige Funktion.\n",
    "````"
   ]
  },
  {
   "cell_type": "markdown",
   "id": "d53b3803-c289-42b1-abc2-fc4b04909704",
   "metadata": {},
   "source": [
    "## Der Gradient\n",
    "\n",
    "Der Gradient einer skalarwertigen Funktion von mehreren Variablen ist der Zeilenvektor, in dem alle partiellen Ableitungen gesammelt werden. Als Abkürzung für den Gradienten vwerwenden wir das Symbol Nabla:\n",
    "\n",
    "$$\\nabla f(x,y,z) = \\left(\\frac{\\partial f(x,y,z)}{\\partial x}, \\frac{\\partial f(x,y,z)}{\\partial y}, \\frac{\\partial f(x,y,z)}{\\partial z} \\right).$$\n",
    "\n",
    "Manchmal wird auch die Schreibweise $\\text{grad}f(x,y,z)$ verwendet. Der Gradient ist sozusagen die 1. Ableitung einer *skalar*wertigen Funktion von mehreren Variablen."
   ]
  },
  {
   "cell_type": "code",
   "execution_count": 4,
   "id": "25d6c718-4b76-49c5-9c63-cec2dd2a6cde",
   "metadata": {
    "tags": [
     "remove-input"
    ]
   },
   "outputs": [
    {
     "data": {
      "text/html": [
       "\n",
       "        <iframe\n",
       "            width=\"560\"\n",
       "            height=\"315\"\n",
       "            src=\"https://www.youtube.com/embed/627f_DgQJpY\"\n",
       "            frameborder=\"0\"\n",
       "            allowfullscreen\n",
       "            \n",
       "        ></iframe>\n",
       "        "
      ],
      "text/plain": [
       "<IPython.lib.display.IFrame at 0x110a64cd0>"
      ]
     },
     "execution_count": 4,
     "metadata": {},
     "output_type": "execute_result"
    }
   ],
   "source": [
    "IFrame(width=560, height=315, src=\"https://www.youtube.com/embed/627f_DgQJpY\")"
   ]
  },
  {
   "cell_type": "markdown",
   "id": "46f8c847-391a-4b76-9a17-7a2547dd7cf5",
   "metadata": {},
   "source": [
    "## Jacobi-Matrix einer vektorwertigen Funktion\n",
    "\n",
    "Die Jacobi-Matrix einer vektorwertigen Funktion von mehreren Variablen ist eine Matrix, die genau wie der Gradient alle partiellen Ableitungen einsammelt. Da aber die Funktionswerte der Matrix selbst Vektoren sind, entsteht eine Matrix.\n",
    "\n",
    "Kochrezept zur Berechnung der Jacobi-Matrix:\n",
    "* Interpretiere die vektorwertige Funktion zeilenweise als skalarwertige Funktion.\n",
    "* Bilde den Gradienten für jede Zeile.\n",
    "* Schreibe die Gradienten untereinander in eine Matrix. \n",
    "\n",
    "Die Jacobi-Matrix ist sozusagen die 1. Ableitung einer *vektor*wertigen Funktion von mehreren Variablen."
   ]
  },
  {
   "cell_type": "code",
   "execution_count": 5,
   "id": "c995b3fa-0cb4-4440-90f6-c1767cf3a371",
   "metadata": {
    "tags": [
     "remove-input"
    ]
   },
   "outputs": [
    {
     "data": {
      "text/html": [
       "\n",
       "        <iframe\n",
       "            width=\"560\"\n",
       "            height=\"315\"\n",
       "            src=\"https://www.youtube.com/embed/FqaCPP8OZWU\"\n",
       "            frameborder=\"0\"\n",
       "            allowfullscreen\n",
       "            \n",
       "        ></iframe>\n",
       "        "
      ],
      "text/plain": [
       "<IPython.lib.display.IFrame at 0x110a85160>"
      ]
     },
     "execution_count": 5,
     "metadata": {},
     "output_type": "execute_result"
    }
   ],
   "source": [
    "IFrame(width=560, height=315, src=\"https://www.youtube.com/embed/FqaCPP8OZWU\")"
   ]
  },
  {
   "cell_type": "markdown",
   "id": "eea7430b-09e9-4650-8d24-7e635269f06a",
   "metadata": {},
   "source": [
    "## Beispiel einer Jacobi-Matrix\n",
    "\n",
    "Wir schauen uns an dem folgenden Beispiel an, wie die Jacobi-Matrix der vektorwertigen Funktion\n",
    "\n",
    "$$f:\\mathbb{R}^3\\longrightarrow\\mathbb{R}^2 \\quad \\text{mit} \\quad f(x,y,z)=\\begin{pmatrix} x^2 + y^3 + \\sin(z) \\\\ z^2\\end{pmatrix}$$\n",
    "\n",
    "berechnet wird.\n",
    "\n",
    "1. Die erste Zeile enthält die Funktion $f_1(x,y,z)=x^2 + y^3 + \\sin(z)$ mit dem Gradienten\n",
    "$\\left(2x , 3y^2, \\cos(z)\\right).$\n",
    "2. Die zweite Zeile enthält die Funktion $f_2(x,y,z)=z^2$ mit dem Gradienten\n",
    "$\\left(0, 0, 2z\\right).$\n",
    "3. Aus beiden Zeilen wird dann die Matrix zusammengesetzt, die Jacobi-Matrix lautet also\n",
    "$$J(f)(x,y,z)=\\begin{pmatrix} 2x & 3x^2 & \\cos(z)\\\\ 0 & 0 & 2z \\end{pmatrix}.$$\n",
    "\n",
    "Weitere Beispiele finden Sie in den folgenden Videos."
   ]
  },
  {
   "cell_type": "code",
   "execution_count": 6,
   "id": "dbb1a051-d4a1-41c2-a89b-e3f1398c0ea6",
   "metadata": {
    "tags": [
     "remove-input"
    ]
   },
   "outputs": [
    {
     "data": {
      "text/html": [
       "\n",
       "        <iframe\n",
       "            width=\"560\"\n",
       "            height=\"315\"\n",
       "            src=\"https://www.youtube.com/embed/LiFyUo6snK8\"\n",
       "            frameborder=\"0\"\n",
       "            allowfullscreen\n",
       "            \n",
       "        ></iframe>\n",
       "        "
      ],
      "text/plain": [
       "<IPython.lib.display.IFrame at 0x110a85970>"
      ]
     },
     "execution_count": 6,
     "metadata": {},
     "output_type": "execute_result"
    }
   ],
   "source": [
    "IFrame(width=560, height=315, src=\"https://www.youtube.com/embed/LiFyUo6snK8\")"
   ]
  },
  {
   "cell_type": "code",
   "execution_count": 7,
   "id": "9972ade9-aa6b-4717-bb73-143cc8721700",
   "metadata": {
    "tags": [
     "remove-input"
    ]
   },
   "outputs": [
    {
     "data": {
      "text/html": [
       "\n",
       "        <iframe\n",
       "            width=\"560\"\n",
       "            height=\"315\"\n",
       "            src=\"https://www.youtube.com/embed/kMizXsfSK2o\"\n",
       "            frameborder=\"0\"\n",
       "            allowfullscreen\n",
       "            \n",
       "        ></iframe>\n",
       "        "
      ],
      "text/plain": [
       "<IPython.lib.display.IFrame at 0x110a85220>"
      ]
     },
     "execution_count": 7,
     "metadata": {},
     "output_type": "execute_result"
    }
   ],
   "source": [
    "IFrame(width=560, height=315, src=\"https://www.youtube.com/embed/kMizXsfSK2o\")"
   ]
  },
  {
   "cell_type": "markdown",
   "id": "56946da7-a959-4e74-8655-38658c3d1326",
   "metadata": {},
   "source": [
    "## Mehrdimensionale Kettenregel\n",
    "\n",
    "Zur Erinnerung, die eindimensionale Kettenregel lautet wie folgt:\n",
    "Die Ableitung der verketten Funktion $f(g(x))$ ist äußere Ableitung mal innere Ableitung, d.h.\n",
    "\n",
    "$$f(g(x))' = f'(g(x))\\cdot g'(x).$$\n",
    "\n",
    "Mit den Jacobi-Matrizen können wir die mehrdimensionale Kettenregel nun wie folgt formulieren:\n",
    "\n",
    "Die Jacobi-Matrix der verketten Funktionen $f(g(x,y,z))$ ist Jacobi-Matrix der äußeren Funktion mal Jacobi-Matrix der inneren Funktion, d.h.\n",
    "\n",
    "$$J(f(g(x,y,z)) = J(f) \\cdot J(g).$$"
   ]
  },
  {
   "cell_type": "code",
   "execution_count": 8,
   "id": "11ee75ea-2f85-44a5-be0a-e9d4ccd70de0",
   "metadata": {
    "tags": [
     "remove-input"
    ]
   },
   "outputs": [
    {
     "data": {
      "text/html": [
       "\n",
       "        <iframe\n",
       "            width=\"560\"\n",
       "            height=\"315\"\n",
       "            src=\"https://www.youtube.com/embed/LkWAGcGGDD8\"\n",
       "            frameborder=\"0\"\n",
       "            allowfullscreen\n",
       "            \n",
       "        ></iframe>\n",
       "        "
      ],
      "text/plain": [
       "<IPython.lib.display.IFrame at 0x110aed3a0>"
      ]
     },
     "execution_count": 8,
     "metadata": {},
     "output_type": "execute_result"
    }
   ],
   "source": [
    "IFrame(width=560, height=315, src=\"https://www.youtube.com/embed/LkWAGcGGDD8\")"
   ]
  }
 ],
 "metadata": {
  "kernelspec": {
   "display_name": "Python 3 (ipykernel)",
   "language": "python",
   "name": "python3"
  },
  "language_info": {
   "codemirror_mode": {
    "name": "ipython",
    "version": 3
   },
   "file_extension": ".py",
   "mimetype": "text/x-python",
   "name": "python",
   "nbconvert_exporter": "python",
   "pygments_lexer": "ipython3",
   "version": "3.9.7"
  }
 },
 "nbformat": 4,
 "nbformat_minor": 5
}
