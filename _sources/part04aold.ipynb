{
 "cells": [
  {
   "cell_type": "markdown",
   "id": "826175db-b9c4-4c7e-941a-2e61c2313a9d",
   "metadata": {},
   "source": [
    "# Potenzreihen \n",
    "\n",
    "Blablabla..."
   ]
  },
  {
   "cell_type": "code",
   "execution_count": 3,
   "id": "8223e25b-94b4-4ed6-93b3-7eef7869dd95",
   "metadata": {
    "jp-MarkdownHeadingCollapsed": true,
    "tags": []
   },
   "outputs": [
    {
     "data": {
      "text/html": [
       "\n",
       "        <iframe\n",
       "            width=\"800px\"\n",
       "            height=\"600px\"\n",
       "            src=\"https://www.youtube.com/embed/S_f2qV2_U00?rel=0&amp;controls=0&amp;showinfo=0\"\n",
       "            frameborder=\"0\"\n",
       "            allowfullscreen\n",
       "            \n",
       "        ></iframe>\n",
       "        "
      ],
      "text/plain": [
       "<IPython.lib.display.IFrame at 0x7f8e78289790>"
      ]
     },
     "execution_count": 3,
     "metadata": {},
     "output_type": "execute_result"
    }
   ],
   "source": [
    "from IPython.display import IFrame\n",
    "\n",
    "## Youtube\n",
    "#HTML('<iframe width=\"560\" height=\"315\" src=\"https://www.youtube.com/embed/S_f2qV2_U00?rel=0&amp;controls=0&amp;showinfo=0\" frameborder=\"0\" allowfullscreen></iframe>')\n",
    "\n",
    "\n",
    "#IFrame(src, width, height, extras: Optional[Iterable[str]] = None, **kwargs)\n",
    "IFrame(src=\"https://www.youtube.com/embed/S_f2qV2_U00?rel=0&amp;controls=0&amp;showinfo=0\", width='800px', height='600px')"
   ]
  },
  {
   "cell_type": "markdown",
   "id": "3b1a5f20-e10a-4fed-9d02-27261d282e85",
   "metadata": {},
   "source": [
    "Hallo\n"
   ]
  },
  {
   "cell_type": "code",
   "execution_count": 13,
   "id": "d118be03-4978-4ae9-8cb2-11f3df48195e",
   "metadata": {
    "tags": []
   },
   "outputs": [
    {
     "data": {
      "text/html": [
       "\n",
       "        <iframe\n",
       "            width=\"800px\"\n",
       "            height=\"600px\"\n",
       "            src=\"https://www.geogebra.org/m/g2yy78pa\"\n",
       "            frameborder=\"0\"\n",
       "            allowfullscreen\n",
       "            \n",
       "        ></iframe>\n",
       "        "
      ],
      "text/plain": [
       "<IPython.lib.display.IFrame at 0x7f8e898ccc70>"
      ]
     },
     "execution_count": 13,
     "metadata": {},
     "output_type": "execute_result"
    }
   ],
   "source": [
    "IFrame(src='https://www.geogebra.org/m/g2yy78pa', width='800px', height='600px')\n"
   ]
  },
  {
   "cell_type": "code",
   "execution_count": null,
   "id": "9d032a04-e925-49f6-8d38-cfc7125e8203",
   "metadata": {},
   "outputs": [],
   "source": []
  }
 ],
 "metadata": {
  "kernelspec": {
   "display_name": "Python 3.9.7 ('python39')",
   "language": "python",
   "name": "python397jvsc74a57bd01863971d65633e53ca5b74972b86a14fab6d597ce2ac84dc984546545d2d3a9b"
  },
  "language_info": {
   "codemirror_mode": {
    "name": "ipython",
    "version": 3
   },
   "file_extension": ".py",
   "mimetype": "text/x-python",
   "name": "python",
   "nbconvert_exporter": "python",
   "pygments_lexer": "ipython3",
   "version": "3.9.7"
  }
 },
 "nbformat": 4,
 "nbformat_minor": 5
}
