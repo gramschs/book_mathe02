{
 "cells": [
  {
   "cell_type": "code",
   "execution_count": 5,
   "id": "edfceb2f-0029-4e52-bc68-e3630c6c01d5",
   "metadata": {
    "tags": [
     "remove-input"
    ]
   },
   "outputs": [],
   "source": [
    "from IPython.display import HTML, IFrame, Image"
   ]
  },
  {
   "cell_type": "markdown",
   "id": "f08160a9-e377-4ab7-a057-00c749be183c",
   "metadata": {},
   "source": [
    "# Reihen\n",
    "\n",
    "In diesem Kapitel lernen Sie die grundlegenden Begriffe zu Reihen kennen. Neben einigen Beispielen vor allem zu geometrischen und harmonischen Reihen widmen wir uns der Konvergenz von Reihen.\n",
    "\n",
    "```{admonition} Lernziele\n",
    ":class: tip\n",
    "* Sie können den Fachbegriff **Reihe** erklären.\n",
    "* Sie können den Fachbegriff **Partialsumme** einer Reihe erklären.\n",
    "* Sie kennen als Beispiel für Reihen die\n",
    "    * **arithmetische Reihe**,\n",
    "    * **geometrische Reihe** und\n",
    "    * **harmonische Reihe**.\n",
    "* Sie können den Fachbegriff **alternierende Reihe** erklären.\n",
    "* Sie können den Fachbegriff **Konvergenz** einer Reihe erklären.\n",
    "* Sie können mit den **Konvergenzkriterien** überprüfen, ob eine Reihe konvergiert, indem Sie die folgenden Kriterien anwenden können:\n",
    "    * **Leibniz-Kriterium für alternierende Reihen**, \n",
    "    * **Quotientenkriterium** oder\n",
    "    * **Wurzelkriterium**.\n",
    "* Sie können den Fachbegriff **absolut konvergente Reihe** erklären.\n",
    "```"
   ]
  },
  {
   "cell_type": "markdown",
   "id": "6d611cd2-53e8-44a5-9880-3d3f8f3d53c9",
   "metadata": {},
   "source": [
    "## Reihen werden aus Folgen gebildet\n",
    "\n",
    "In dem folgenden Video werden sowohl die grundlegenden Begriffe zum Thema Reihen erklärt als auch das Thema Konvergenz und Divergenz von Reihen erläutert.\n"
   ]
  },
  {
   "cell_type": "code",
   "execution_count": 7,
   "id": "8f93ec85-5955-4d17-94b9-0a28ba8ff810",
   "metadata": {
    "tags": [
     "remove-input"
    ]
   },
   "outputs": [
    {
     "data": {
      "text/html": [
       "\n",
       "        <iframe\n",
       "            width=\"560\"\n",
       "            height=\"315\"\n",
       "            src=\"https://www.youtube.com/embed/1vQ67chDVbU\"\n",
       "            frameborder=\"0\"\n",
       "            allowfullscreen\n",
       "            \n",
       "        ></iframe>\n",
       "        "
      ],
      "text/plain": [
       "<IPython.lib.display.IFrame at 0x7fda495dabb0>"
      ]
     },
     "execution_count": 7,
     "metadata": {},
     "output_type": "execute_result"
    }
   ],
   "source": [
    "IFrame(src=\"https://www.youtube.com/embed/1vQ67chDVbU\", width=\"560\", height=\"315\")"
   ]
  },
  {
   "cell_type": "markdown",
   "id": "22aa44cc-6bac-40bd-9ef1-bf0aad489d46",
   "metadata": {},
   "source": [
    "## Bekannte Beispiele sind die geometrische und die harmonische Reihe\n",
    "\n",
    "In den folgenden beiden Videos werden zunächst die geometrische Reihe und dann die harmonische Reihe erklärt."
   ]
  },
  {
   "cell_type": "code",
   "execution_count": 8,
   "id": "2a87d9f4-b7f6-40a2-ba78-506255ed9df7",
   "metadata": {
    "tags": [
     "remove-input"
    ]
   },
   "outputs": [
    {
     "data": {
      "text/html": [
       "\n",
       "        <iframe\n",
       "            width=\"560\"\n",
       "            height=\"315\"\n",
       "            src=\"https://www.youtube.com/embed/y_9ccgrwTZo\"\n",
       "            frameborder=\"0\"\n",
       "            allowfullscreen\n",
       "            \n",
       "        ></iframe>\n",
       "        "
      ],
      "text/plain": [
       "<IPython.lib.display.IFrame at 0x7fda49591190>"
      ]
     },
     "execution_count": 8,
     "metadata": {},
     "output_type": "execute_result"
    }
   ],
   "source": [
    "IFrame(width=\"560\", height=\"315\", src=\"https://www.youtube.com/embed/y_9ccgrwTZo\")"
   ]
  },
  {
   "cell_type": "code",
   "execution_count": 9,
   "id": "5b2def62-ff37-4d30-96dd-7c83ead9d314",
   "metadata": {
    "tags": [
     "remove-input"
    ]
   },
   "outputs": [
    {
     "data": {
      "text/html": [
       "\n",
       "        <iframe\n",
       "            width=\"560\"\n",
       "            height=\"315\"\n",
       "            src=\"https://www.youtube.com/embed/n2ELwRkgKhc\"\n",
       "            frameborder=\"0\"\n",
       "            allowfullscreen\n",
       "            \n",
       "        ></iframe>\n",
       "        "
      ],
      "text/plain": [
       "<IPython.lib.display.IFrame at 0x7fda49581b20>"
      ]
     },
     "execution_count": 9,
     "metadata": {},
     "output_type": "execute_result"
    }
   ],
   "source": [
    "IFrame(width=\"560\", height=\"315\", src=\"https://www.youtube.com/embed/n2ELwRkgKhc\")"
   ]
  },
  {
   "cell_type": "markdown",
   "id": "520d90bc-0d38-4f49-8dec-2f55def3252b",
   "metadata": {},
   "source": [
    "## Konvergiert die Reihe oder divergiert sie?\n",
    "\n",
    "In dem ersten Video wird zunächst auf die Konvergenz von Reihen eingegangen. Danach werden die Kriterien zur Bestimmung der Konvergenz\n",
    "* Leibniz-Kriterium,\n",
    "* Wurzelkriterium und\n",
    "* Quotientenkriterium \n",
    "\n",
    "vorgestellt."
   ]
  },
  {
   "cell_type": "code",
   "execution_count": 10,
   "id": "467b6ef7-d513-487f-b00a-27894b06e498",
   "metadata": {
    "tags": [
     "remove-input"
    ]
   },
   "outputs": [
    {
     "data": {
      "text/html": [
       "\n",
       "        <iframe\n",
       "            width=\"560\"\n",
       "            height=\"315\"\n",
       "            src=\"https://www.youtube.com/embed/aGnAseEnfG0\"\n",
       "            frameborder=\"0\"\n",
       "            allowfullscreen\n",
       "            \n",
       "        ></iframe>\n",
       "        "
      ],
      "text/plain": [
       "<IPython.lib.display.IFrame at 0x7fda493bf250>"
      ]
     },
     "execution_count": 10,
     "metadata": {},
     "output_type": "execute_result"
    }
   ],
   "source": [
    "IFrame(width=\"560\", height=\"315\", src=\"https://www.youtube.com/embed/aGnAseEnfG0\")"
   ]
  },
  {
   "cell_type": "code",
   "execution_count": 11,
   "id": "6afa5a17-d242-43f7-8d09-8585e860df17",
   "metadata": {
    "tags": [
     "remove-input"
    ]
   },
   "outputs": [
    {
     "data": {
      "text/html": [
       "\n",
       "        <iframe\n",
       "            width=\"560\"\n",
       "            height=\"315\"\n",
       "            src=\"https://www.youtube.com/embed/_8_Q6g8-QxA\"\n",
       "            frameborder=\"0\"\n",
       "            allowfullscreen\n",
       "            \n",
       "        ></iframe>\n",
       "        "
      ],
      "text/plain": [
       "<IPython.lib.display.IFrame at 0x7fda38548700>"
      ]
     },
     "execution_count": 11,
     "metadata": {},
     "output_type": "execute_result"
    }
   ],
   "source": [
    "IFrame(width=\"560\", height=\"315\", src=\"https://www.youtube.com/embed/_8_Q6g8-QxA\")"
   ]
  },
  {
   "cell_type": "code",
   "execution_count": 12,
   "id": "c8e03fdc-36bf-4d9f-8503-33a47843c3b2",
   "metadata": {
    "tags": [
     "remove-input"
    ]
   },
   "outputs": [
    {
     "data": {
      "text/html": [
       "\n",
       "        <iframe\n",
       "            width=\"560\"\n",
       "            height=\"315\"\n",
       "            src=\"https://www.youtube.com/embed/G1GSAFrd6mE\"\n",
       "            frameborder=\"0\"\n",
       "            allowfullscreen\n",
       "            \n",
       "        ></iframe>\n",
       "        "
      ],
      "text/plain": [
       "<IPython.lib.display.IFrame at 0x7fda685ed370>"
      ]
     },
     "execution_count": 12,
     "metadata": {},
     "output_type": "execute_result"
    }
   ],
   "source": [
    "IFrame(width=\"560\", height=\"315\", src=\"https://www.youtube.com/embed/G1GSAFrd6mE\")"
   ]
  },
  {
   "cell_type": "markdown",
   "id": "2cbdba74-296e-4c0e-aa91-8943b8bb5dbe",
   "metadata": {},
   "source": [
    "## Zusatzmaterial\n",
    "\n",
    "Wer es musikalisch mag, kann auch gerne sich den Mathe-Song von DorFuchs zur Konvergenz der geometrischen Reihe anhören:"
   ]
  },
  {
   "cell_type": "code",
   "execution_count": 13,
   "id": "33c7a1b2-9bf0-4907-af2d-4ffb2fcd700b",
   "metadata": {
    "tags": [
     "remove-input"
    ]
   },
   "outputs": [
    {
     "data": {
      "text/html": [
       "\n",
       "        <iframe\n",
       "            width=\"560\"\n",
       "            height=\"315\"\n",
       "            src=\"https://www.youtube.com/embed/2TCDiK7GpNM\"\n",
       "            frameborder=\"0\"\n",
       "            allowfullscreen\n",
       "            \n",
       "        ></iframe>\n",
       "        "
      ],
      "text/plain": [
       "<IPython.lib.display.IFrame at 0x7fda495a2850>"
      ]
     },
     "execution_count": 13,
     "metadata": {},
     "output_type": "execute_result"
    }
   ],
   "source": [
    "IFrame(width=\"560\", height=\"315\", src=\"https://www.youtube.com/embed/2TCDiK7GpNM\")"
   ]
  },
  {
   "cell_type": "markdown",
   "id": "e04c2a03-c1a7-408a-a436-5e20147fe2e8",
   "metadata": {},
   "source": [
    "Hier wird ein Beispiel zur Konvergenz von Reihen mit dem Quotientenkriterium erklärt:"
   ]
  },
  {
   "cell_type": "code",
   "execution_count": 14,
   "id": "62c27d49-4d7c-41bd-a2c3-85a4ad2e93f5",
   "metadata": {
    "tags": [
     "remove-input"
    ]
   },
   "outputs": [
    {
     "data": {
      "text/html": [
       "\n",
       "        <iframe\n",
       "            width=\"560\"\n",
       "            height=\"315\"\n",
       "            src=\"https://www.youtube.com/embed/p3BPRuk0Wwk\"\n",
       "            frameborder=\"0\"\n",
       "            allowfullscreen\n",
       "            \n",
       "        ></iframe>\n",
       "        "
      ],
      "text/plain": [
       "<IPython.lib.display.IFrame at 0x7fda495beca0>"
      ]
     },
     "execution_count": 14,
     "metadata": {},
     "output_type": "execute_result"
    }
   ],
   "source": [
    "IFrame(width=\"560\", height=\"315\", src=\"https://www.youtube.com/embed/p3BPRuk0Wwk\")"
   ]
  }
 ],
 "metadata": {
  "kernelspec": {
   "display_name": "Python 3 (ipykernel)",
   "language": "python",
   "name": "python3"
  },
  "language_info": {
   "codemirror_mode": {
    "name": "ipython",
    "version": 3
   },
   "file_extension": ".py",
   "mimetype": "text/x-python",
   "name": "python",
   "nbconvert_exporter": "python",
   "pygments_lexer": "ipython3",
   "version": "3.9.12"
  }
 },
 "nbformat": 4,
 "nbformat_minor": 5
}
