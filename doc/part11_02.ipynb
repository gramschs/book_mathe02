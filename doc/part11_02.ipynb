{
 "cells": [
  {
   "cell_type": "markdown",
   "id": "68c89c87-9d84-4254-9ebc-e324d3b9b5bc",
   "metadata": {},
   "source": [
    "# Lösungen von Differentialgleichungen\n",
    "\n",
    "In diesem Abschnitt werden wir uns mit der Lösung einer Differentialgleichung beschäftigen. Wir werden den Unterschied zwischen der allgemeinen Lösung und einer speziellen Lösung der DGL betrachten und uns mit Anfangs- und Randwertproblemen beschäftigen.\n",
    "\n",
    "```{admonition} Lernziele\n",
    ":class: tip\n",
    "* Sie können den Unterschied zwischen der **allgemeinen Lösung** und einer **speziellen Lösung** einer Differentialgleichung erklären.\n",
    "* Sie wissen, was ein **Anfangswertproblem** ist.\n",
    "* Sie wissen, was ein **Randwertproblem** ist.\n",
    "```"
   ]
  },
  {
   "cell_type": "markdown",
   "id": "273d5366-c21e-41ff-81ee-d8348286b4e0",
   "metadata": {},
   "source": [
    "## Die allgemeine Lösung sind unendlich viele Funktionen\n",
    "\n",
    "Das Lösen von Differentialgleichungen ist ein eigenes Forschungsgebiet der Mathematik. Wie Sie bereits im vorherigen Abschnitt gesehen haben, gehört dazu die Integration, was ja an sich schon ein schwieriges Thema ist. Und nicht immer existiert überhaupt eine Funktion, die die Differentialgleichung erfüllt. Daher halten wir zunächst einmal fest:\n",
    "\n",
    "Eine Funktion, die eingesetzt in die Differentialgleichung dazu führt, dass die linke Seite der Gleichung gleich der rechten Seite ist, heißt **Lösung der Differentialgleichung**."
   ]
  },
  {
   "cell_type": "markdown",
   "id": "bae0a73d-a044-465b-b7ad-e8e0c428293e",
   "metadata": {},
   "source": [
    "Im Abschnitt \"[](sec_11_01_a)\" haben wir bereits festgestellt, dass es auch unendlich viele Lösungen einer Differentialgleichung geben kann. Beispielsweise lösen alle Funktionen\n",
    "\n",
    "$$y(x)=\\sin(x)+C_1 x + C_2$$\n",
    "\n",
    "die Differentialgleichung $y''(x) = -\\sin(x).$ Die beiden Integrationskonstanten $C_1$ und $C_2$ entstehen dadurch, dass die höchste auftretende Ableitung die zweite Ableitung ist. Die DGL hat Ordnung 2 und wir müssen zweimal ingtegrieren, um zu einer Lösung zu gelangen. Und obwohl wir von *der* Lösung der DGL sprechen, meinen wir damit eigentlich unendlich viele Funktionen. \n",
    "\n",
    "```{admonition} Was ist ... die allgemeine Lösung einer DGL?\n",
    "Enthält die Lösungsfunktion der Differentialgleichung noch Integrationskonstanten und ist damit eigentlich eine Schar von unendlich vielen Funktionen, so nennen wir diese Schar von Funktionen\n",
    "die **allgemeine Lösung** der Differentialgleichung.\n",
    "```"
   ]
  },
  {
   "cell_type": "markdown",
   "id": "d186c166-7f04-4f6a-9223-feb4f74676cc",
   "metadata": {},
   "source": [
    "## Mit Zusatzbedingungen wird die Lösung speziell\n",
    "\n",
    "Aus der allgemeinen Lösung wählen wir eine sogenannte **spezielle Lösung** aus, indem wir die Integrationskonstanten festlegen. In dem obigen Beispiel bekommen wir durch die Wahl von $C_1=2$ und $C_2 = 3$ die spezielle Lösung\n",
    "\n",
    "$$y(x)=\\sin(x)+2x+3$$\n",
    "\n",
    "der DGL $y''(x)=-\\sin(x)$.\n",
    "\n",
    "Normalerweise raten wir nicht einfach Integrationskonstanten, sondern legen diese durch zusätzliche Informationen, also weitere Zusatzbedingungen fest. \n",
    "\n",
    "Beispielsweise könnten wir fordern, dass unsere gewünschte spezielle Lösung durch die Punkte $(0,0)$ und $(\\pi,1)$ gehen soll. Dann würde die spezielle Lösung mit $C_1=\\frac{1}{\\pi}$ und $C_2=0$ sowohl die DGL erfüllen als auch die Zusatzbedingungen, denn es gilt\n",
    "\n",
    "\\begin{align*}\n",
    "y(0) &= \\sin(0) + \\frac{1}{\\pi}\\cdot 0 + 0 = 0,\\\\\n",
    "y(\\pi) &= \\sin(\\pi) + \\frac{1}{\\pi} \\cdot \\pi + 0 = 1.\n",
    "\\end{align*}\n",
    "\n",
    "Sicherheitshalber rechnen wir noch die 2. Ableitung der Funktion $y(x)=\\sin(x)+\\frac{1}{\\pi}x$ aus, aber das ist tatsächlich $y''(x)=-\\sin(x)$, so dass die DGL auch erfüllt ist.\n",
    "\n",
    "```{admonition} Was ist ... eine spezielle Lösung einer DGL?\n",
    "Die **spezielle Lösung** einer DGL ist eine Funktion, die die Differentialgleichung erfüllt, aber keine Integrationskonstanten mehr enthält. Sie wird meist aus der allgemeinen Lösung berechnet, indem noch Zusatzbedingungen gestellt werden.\n",
    "```"
   ]
  },
  {
   "cell_type": "markdown",
   "id": "401e3d30-b673-43af-8f3d-b3de11bcdd4b",
   "metadata": {},
   "source": [
    "## Anfangswerte sind die häufigsten Zusatzbedingungen\n",
    "\n",
    "Die Zusatzbedingungen kommen normalerweise aus dem Anwendungskontext. Wir schauen uns ein Beispiel aus der Physik an. Lassen wir einen Körper in der Nähe der Erdoberfläche fallen, so wirkt die Schwerkraft auf ihn ein. Seine Beschleunigung $a$ ist dann gleich der negativen Erdbeschleunigung, also $a = - g = - 9.81 \\text{m}/\\text{s}^2$. \n",
    "\n",
    "Wir wissen, dass die Beschleunigung $a(t)$ die 1. Ableitung der Geschwindigkeit-Zeit-Funktion $v(t)$ ist, die wiederum die 1. Ableitung der Weg-Zeit-Funktion $s(t)$ ist. Damit ist die Beschleunigung die 2. Ableitung der Weg-Zeit-Funktion $s(t)$. Es gilt die Differentialgleichung\n",
    "\n",
    "$$\\ddot{s}(t) = -g.$$\n",
    "\n",
    "Bemerkung: Da die Weg-Zeit-Funktion eine zeitliche Größe ist, benutzen wir hier die Schreibweise mit der unabhängigen Variable $t$ und den zwei Punkten, um die 2. Anbleitung nach $t$ zu formulieren. Mehr dazu finden Sie im Abschnitt [](sec_11_01_b)."
   ]
  },
  {
   "cell_type": "markdown",
   "id": "5d045d65-1da1-465c-a882-7481bf805594",
   "metadata": {},
   "source": [
    "Wir integrieren die Differentialgleichung zunächst unbestimmt, um die Geschwindigkeit-Zeit-Funktion $v(t)=\\dot{s}(t)$ zu erhalten:\n",
    "\n",
    "$$\n",
    "\\int \\ddot{s}(t)\\, dt = \\int -g \\, dt \\quad  \\Rightarrow \\quad v(t)=\\dot{s}(t) = -gt + C_1.$$\n",
    "\n",
    "Dann integrieren wir ein zweites Mal unbestimmt, um die Weg-Zeit-Funktion $s(t)$ zu bekommen:\n",
    "\n",
    "\n",
    "$$\\int \\dot{s}(t) \\, dt = \\int -gt + C_1 \\, dt \\quad \\Rightarrow \\quad s(t) = -\\frac{1}{2}gt^2 + C_1 t + C_2. $$\n",
    "\n",
    "Wie zu erwarten war, entstehen durch die zweimalige Integration zwei Integrationskonstanten. Wir brauchen Zusatzbedingungen, um aus der allgemeinen Lösung eine spezielle Lösung auszuwählen. Dazu betrachten wir den Anwendungskontext etwas näher.\n",
    "\n",
    "Die Zeitmessung beginnt, sobald der Körper anfängt zu fallen. Daher ist es besonders geschickt, die Zusatzinformationen zu Beginn des Prozesses $t=0$ zu messen und daraus die beiden Integrationskonstanten zu bestimmen. Zu Beginn des freien Falls können wir die Höhe messen, aus der der Körper fällt. Wir bezeichnen die Anfangshöhe mit $s_0$. Es muss nicht sein, dass der Körper aus der Ruhe beginnt zu fallen. Die Anfangsgeschwindigkeit zum Zeitpunkt $t=0$ bezeichnen wir mit $v_0$. Es gilt also\n",
    "\n",
    "$$s(0)=s_0 \\quad \\text{ und } \\quad v(0)=v_0.$$\n",
    "\n",
    "Wenn wir nun die allgemeine Lösung $s(t) = -\\frac{1}{2}gt^2 + C_1 t + C_2$ zum Zeitpunkt $t=0$ betrachten, so gilt\n",
    "\n",
    "$$s(0)=-\\frac{1}{2}g\\cdot0^2 + C_1\\cdot 0 + C_2 = C_2.$$\n",
    "\n",
    "Daraus können wir sofort ablesen, dass die Integrationskonstante $C_2$ der Anfangshöhe $s_0$ entsprechen muss.\n",
    "\n",
    "Als nächstes betrachten wir die 1. Ableitung der allgemeinen Lösung zum Zeitpunkt $t=0$, also die Geschwindigkeit-Zeit-Funktion $v(t)$\n",
    "\n",
    "$$\\dot{s}(0)=-g\\cdot 0 + C_1 = C_1.$$\n",
    "\n",
    "Damit erhalten wir die spezielle Lösung\n",
    "\n",
    "$$s(t)=\\frac{1}{2}gt^2 + v_0 t + s_0$$\n",
    "\n",
    "passend zu den Anfangsbedingungen $s(0)=s_0$ und $v(0)=v_0$."
   ]
  },
  {
   "cell_type": "markdown",
   "id": "d490fcd0-adb8-4890-8839-404bbc96acbc",
   "metadata": {},
   "source": [
    "```{admonition} Was ist ... ein Anfangswertproblem?\n",
    "Sind zusätzlich zu einer Differentialgleichung noch weitere Bedingungen für die Funktion und ihre Ableitungen an einer *einzigen* Stelle gegeben, so nennen wir beides zusammen **Anfangswertproblem**.\n",
    "\n",
    "Hat die Differentialgleichung die Ordnung $n$, dann brauchen wir $n$ Anfangsbedingungen, um aus der allgemeinen Lösung eine spezielle Lösung auszuwählen.\n",
    "```"
   ]
  },
  {
   "cell_type": "markdown",
   "id": "6f2c7925-77b2-41c4-a82d-abfc328ce582",
   "metadata": {},
   "source": [
    "## Randwertprobleme sind seltener und schwierig\n",
    "\n",
    "Bei den Anfangswertproblemen werden alle Zusatzbedingungen an derselben Stelle gefordert. Sehr oft ist diese Stelle der Anfang eines zeitlichen Prozesses, aber das muss nicht sein. Wenn jedoch die Zusatzbedingungen an verschiedenen Stellen gestellt werden, dann sprechen wir von einem Randwertproblem.\n",
    "\n",
    "```{admonition} Was ist ... ein Randwertproblem?\n",
    "Sind zusätzlich zu einer Differentialgleichung noch weitere Bedingungen für die Funktion und ihre Ableitungen an *mehreren* Stellen gegeben, so nennen wir beides zusammen **Randwertproblem**.\n",
    "\n",
    "Für eine Differentialgleichung der Ordnung $n$ brauchen wir $n$ Randwerte, um aus der allgemeinen Lösung eine spezielle Lösung auszuwählen.\n",
    "```\n",
    "\n"
   ]
  },
  {
   "cell_type": "markdown",
   "id": "9cb32d66-64b5-476d-a8fe-bcb579dff1f7",
   "metadata": {},
   "source": [
    "Wir betrachten als nächstes ein klassisches Beispiel eines Randwertproblems aus der Technischen Mechanik. Ein Balken wird auf zwei Stützen gelagert und gleichmäßig belastet. Für die Biegelinie $y(x)$, die die Auslenkung des Balkens an jeder Position $x$ beschreibt, gilt die folgende Differentialgleichung:\n",
    "\n",
    "$$y'' = -\\frac{M_b}{EI}.$$\n",
    "\n",
    "Die physikalischen Größen sind dabei das Biegemoment $M_b$, der Elastizitätsmodul $E$ und das Flächenmoment $I$ des Balkenquerschnitts. Wirkt eine konstante Streckenlast $q$ auf den Balken, so ist das Biegemoment\n",
    "\n",
    "$$M_b(x) = \\frac{1}{2}q(lx-x^2).$$\n",
    "\n",
    "abhängig von der Position $x$ und die Differentialgleichung lautet\n",
    "\n",
    "$$y'' = - \\frac{q}{2EI}(lx-x^2).$$\n",
    "\n",
    "Dabei sind wir davon ausgegangen, dass die linke Stütze die Position $x=0$ und die rechte Stütze die Position $x=l$ hat. An beiden Randpunkten ist die Auslenkung 0, also haben wir die zusätzlichen Randwerte \n",
    "\n",
    "$$y(0)=0 \\quad \\text{und} \\quad y(l)=0$$\n",
    "\n",
    "als zusätzliche Bedingung. Als erstes bestimmen wir die allgemeine Lösung des Randwertproblems. Dazu integrieren wir zweimal unbestimmt und erhalten zwei Integrationskonstanten:\n",
    "\n",
    "\\begin{align*}\n",
    "\\int y''(x)\\, dx = -\\frac{q}{2EI} \\int lx - x^2 \\, dx \\quad &\\Rightarrow \\quad\n",
    "y'(x) = - \\frac{q}{2EI}\\left(\\frac{1}{2}lx^2 - \\frac{1}{3}x^3 + C_1\\right) \\\\ \n",
    "\\int y'(x) \\, dx = - \\frac{q}{2EI} \\int \\frac{1}{2}lx^2 - \\frac{1}{3}x^3 + C_1 \\, dx \\quad &\\Rightarrow \\quad y(x) = - \\frac{q}{2EI} \\left(\\frac{1}{6}lx^3 -\\frac{1}{12} x^4 + C_1x + C_2\\right)  \n",
    "\\end{align*}"
   ]
  },
  {
   "cell_type": "markdown",
   "id": "98f03131-54ad-4e69-a338-bdff088622eb",
   "metadata": {},
   "source": [
    "Um jetzt aus der allgemeinen Lösung mit den zwei Integrationskonstanten die spezielle Lösung zu berechnen, die das Randwertproblem löst, setzen wir die beiden Randwerte in die allgemeine Lösung ein: \n",
    "\n",
    "\\begin{align*}\n",
    "y(0) &= -\\frac{q}{2EI} C_2, \\\\\n",
    "y(l) &= -\\frac{q}{2EI} \\left(\\frac{1}{6}l^4  - \\frac{1}{12} l^4 + C_1\\cdot l + C_2\\right). \n",
    "\\end{align*}\n",
    "\n",
    "Da die Durchbiegung an der linken und rechten Stütze jeweils 0 ist, setzen wir $y(0)=y(l)=0$. Wir können sofort auf beiden Seiten durch den Term $-\\frac{q}{2EI}$ teilen, da dieser aus physikalischen Gründen selbst ungleich 0 sein muss. Damit erhalten wir sofort $y(0)=C_2=0$. Das setzen wir in die zweite Gleichung ein und erhalten\n",
    "\n",
    "$$y(l)=\\frac{1}{6}l^4  - \\frac{1}{12} l^4 + C_1\\cdot l=0.$$\n",
    "\n",
    "Durch $l$ geteilt und nach $C_1$ aufgelöst erhalten wir $C_1 = -\\frac{1}{12}l^3$. Damit lautet die spezielle Lösung der Differentialgleichung für die Biegelinie\n",
    "\n",
    "$$y(x)=\\frac{q}{24 EI}\\left(x^4 -2lx^3 + l^3x)\\right).$$"
   ]
  }
 ],
 "metadata": {
  "kernelspec": {
   "display_name": "Python 3 (ipykernel)",
   "language": "python",
   "name": "python3"
  },
  "language_info": {
   "codemirror_mode": {
    "name": "ipython",
    "version": 3
   },
   "file_extension": ".py",
   "mimetype": "text/x-python",
   "name": "python",
   "nbconvert_exporter": "python",
   "pygments_lexer": "ipython3",
   "version": "3.9.12"
  }
 },
 "nbformat": 4,
 "nbformat_minor": 5
}
