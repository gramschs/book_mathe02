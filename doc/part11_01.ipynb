{
 "cells": [
  {
   "cell_type": "markdown",
   "id": "1b262479-c5a8-4bb8-b0c3-8828132e53c0",
   "metadata": {},
   "source": [
    "# Grundlegende Begriffe von Differentialgleichungen\n",
    "\n",
    "In diesem Abschnitt führen wir zunächst die grundlegenden Begriffe rund um das Thema Differentialgleichungen anhand eines einfachen Beispieles ein. Am Ende dieses Abschnitts sollten Sie die folgenden Lernziele erreicht haben.\n",
    "\n",
    "```{admonition} Lernziele\n",
    ":class: tip\n",
    "* Sie kennen verschiedene Schreibweisen zur Formulierung von Differentialgleichungen.\n",
    "* Sie können die **Ordnung einer Differentialgleichung** ablesen.\n",
    "* Sie können erklären, was eine **gewöhnliche Differentialgleichung** und was eine **partielle Differentialgleichung** ist.\n",
    "* Sie können unterscheiden, ob eine Differentialgleichung in der **expliziten Form** oder der **impliziten Form** formuliert wurde.\n",
    "```"
   ]
  },
  {
   "cell_type": "markdown",
   "id": "6f9613a1-770a-4d6a-832f-03295471679d",
   "metadata": {},
   "source": [
    "## Eine Differentialgleichung ist auch nur eine Gleichung\n",
    "\n",
    "Bisher haben wir Gleichungen kennengelernt, bei denen nach einer oder mehreren reellen Zahlen gesucht wurde. Die reellen Zahlen, die die Gleichung erfüllen, nennen wir Lösung der Gleichung. Damit ist gemeint, dass man die gefundene reelle Zahl, also die Lösung, in die Gleichung einsetzt und überprüft, ob linke und rechte Seite übereinstimmen.\n",
    "\n",
    "Beispielsweise wird die Gleichung\n",
    "\n",
    "$$ x^2 - x - 6 = 0$$\n",
    "\n",
    "von zwei reellen Zahlen erfüllt, nämlich $x_1 = -2$ und $x_2=3$. Wir können beide Zahlen in die Gleichung einsetzen und erhalten $x_1^2 -x_1 - 6 = 4 + 2 - 6 = 0$ und $x_2^2 - x_2 - 6 = 9 -3 - 6 = 0$. Damit sind beide Zahlen eine Lösung dieser Gleichung. Wie wir jedoch auf die Lösung der Gleichung kommen, durch Raten, ein systematisches Verfahren oder durch den Computer, ist ein eigenes mathematisches Thema. Auch ist nicht von vornherein klar, ob die Gleichung überhaupt lösbar ist und wie viele Lösungen es ggf. gibt."
   ]
  },
  {
   "cell_type": "markdown",
   "id": "54fb3d3f-da7f-493d-9bac-b6860aaba357",
   "metadata": {},
   "source": [
    "Gerade in den Ingenieurwissenschaften wird oft nicht eine Zahl gesucht, sondern eine Funktion! Und oft spielen Ableitungen dabei eine wichtige Rolle. Ein simples mathematisches Beispiel für eine Gleichung mit einer Funktion und einer Ableitung ist die folgende Gleichung:\n",
    "\n",
    "$$f''(x) = -f(x).$$\n",
    "\n",
    "Gesucht wird also eine Funktion, die zweimal abgeleitet die Funktion selbst wieder ergibt, nur mit umgekehrten Vorzeichen. Eine Funktion, die diese Gleichung löst, ist die Sinus-Funktion. Probieren wir es aus und bilden west einmal die Ableitungen:\n",
    "\n",
    "$$f(x) = \\sin(x) \\quad \\Rightarrow f'(x) = \\cos(x) \\quad \\Rightarrow f''(x) = -\\sin(x).$$\n",
    "\n",
    "Eingesetzt in die Gleichung erhalten wir also $-\\sin(x) = -\\sin(x)$. Damit ist die Sinus-Funktion eine Lösung der Gleichung $f''(x) = -f(x).$ \n"
   ]
  },
  {
   "cell_type": "markdown",
   "id": "556a29a2-ba9c-4c1a-adf7-c450c733eff8",
   "metadata": {},
   "source": [
    "```{admonition} Mini-Übung\n",
    ":class: miniexercise\n",
    "Welche der folgenden Funktionen ist eine Lösung der Gleichung\n",
    "\n",
    "$$f''(x) = - f(x)?$$\n",
    "\n",
    "a) $f(x) = \\cos(x)$ <br>\n",
    "b) $f(x) = e^x$ <br>\n",
    "c) $f(x) = \\sin(x) + 3\\cos(x)$ <br>\n",
    "\n",
    "```\n",
    "\n",
    "```{admonition} Lösung\n",
    ":class: minisolution, toggle\n",
    "a) ableiten: $f(x)=\\cos(x) \\quad \\Rightarrow f'(x)=-\\sin(x) \\quad \\Rightarrow f''(x)=-\\cos(x)$ <br>\n",
    "eingesetzt: $-\\cos(x) = -\\cos(x)$ Lösung\n",
    "\n",
    "b) ableiten: $f(x)=e^x \\quad \\Rightarrow f'(x)=e^x \\quad \\Rightarrow f''(x)=e^x$ <br>\n",
    "eingesetzt: $e^x \\neq -e^x$ keine Lösung\n",
    "\n",
    "c) ableiten: \n",
    "\n",
    "$$f(x)=\\sin(x)+3\\cos(x)\\quad \\Rightarrow f''(x)=\\cos(x)-3\\sin(x) \\quad \\Rightarrow f''(x)=-\\sin(x)-3\\cos(x)$$\n",
    "\n",
    "eingesetzt: $-\\sin(x)-3\\cos(x) = -\\left(\\sin(x)+3\\cos(x)\\right)$ Lösung\n",
    "```"
   ]
  },
  {
   "cell_type": "markdown",
   "id": "e8e651d0-3626-425f-bc02-e0d3ab4849de",
   "metadata": {},
   "source": [
    "Wir übernehmen die Begriffe für Gleichungen reeller Zahlen nun für diese neue Art von Gleichungen, die sogenannten Differentialgleichungen."
   ]
  },
  {
   "cell_type": "markdown",
   "id": "927b2e8c-3037-4dd9-8e2b-8b707d7d5524",
   "metadata": {},
   "source": [
    "```{admonition} Was ist ... eine Differentialgleichung?\n",
    "Eine Gleichung, bei der eine Funktion gesucht wird und ihre Ableitungen in der Gleichung ebenfalls vorkommen, nennen wir **Differentialgleichung**. Oft kürzen wir das Wort Differentialgleichung mit DGL ab.\n",
    "```"
   ]
  },
  {
   "cell_type": "markdown",
   "id": "ee0e7987-f2ea-4f63-86ac-2f77f3d792f2",
   "metadata": {},
   "source": [
    "## Es gibt viele Schreibweisen für DGL\n",
    "\n",
    "So wie Gleichungen für Zahlen mit unterschiedlichen Variablen formuliert werden, werden auch bei Differentialgleichungen unterschiedliche Schreibweisen benutzt. Meistens werden nämlich die Bezeichnungen aus dem Anwendungskontext übernommen.\n",
    "\n",
    "Zunächst einmal können die Bezeichnungen für Variablen der gesuchten Funktion variieren. Die obige DGL kann beispielsweise als\n",
    "\n",
    "$$f''(x)=-f(x)$$\n",
    "\n",
    "geschrieben werden, wobei $x$ die sogenannte **unabhängige Variable** ist. Die gesuchte Funktion wird auch als **abhängige Variable** bezeichnet, obwohl es sich um eine Funktion handelt. Sollte es sich jedoch um eine Funktion in Abhängigkeit einer zeitlichen Größe handeln, würde die DGL wohl eher als\n",
    "\n",
    "$$f''(t)=-f(t)$$\n",
    "\n",
    "formuliert werden. Bei zeitlichen Ableitungen wird in den Ingenieurwissenschaften auch eher ein Punkt über den Funktionsnamen gesetzt, um anzudeuten, dass eine zeitliche Größe betrachtet wird, also\n",
    "\n",
    "$$\\ddot{f}(t)=-f(t).$$\n",
    "\n",
    "Auch würde wohl auch eher die gesuchte Funktion mit $x$ bezeichnet werden, also\n",
    "\n",
    "$$\\ddot{x}(t)=-x(t).$$\n",
    "\n",
    "Oft finden wir auch die Schreibweise mit dem Differentialoperator und der Bezeichnung $y$ für die gesuchte Funktion, also\n",
    "\n",
    "$$\\frac{d^2y}{dt^2}=-y(t).$$\n",
    "\n",
    "Und da die unabhängige Variable nicht so wichtig ist, weil es bei Differentialgleichungen um die unbekannte Funktion geht, wird sie manchmal weggelassen, also\n",
    "\n",
    "$$y''=-y.$$\n",
    "\n",
    "Alle Schreibweisen – so unterschiedlich sie auch wirken mögen – drücken dieselbe Frage aus: welche Funktion muss zweimal abgeleitet werden, damit sie das Negative von sich selbst ist.\n"
   ]
  },
  {
   "cell_type": "markdown",
   "id": "577c4888-6a8e-45c3-85d0-e762258ce8a8",
   "metadata": {},
   "source": [
    "## Die Ordnung entscheidet über die Anzahl der Integrationskonstanten\n",
    "\n",
    "Als wir verschiedene Funktionen daraufhin überprüft haben, ob sie die Differentialgleichung\n",
    "\n",
    "$$y''(x) = - y(x)$$\n",
    "\n",
    "erfüllen, haben wir schon festgestellt, dass es mehrere Funktionen geben kann, die passen. Wir schauen uns nun ein etwas einfacheres Beispiel an:\n",
    "\n",
    "$$y''(x) = -\\sin(x).$$\n",
    "\n",
    "Auf der rechten Seite kommt die gesuchte Funktion $y(x)$ nicht mehr vor, sondern sie ist nur noch als 2. Ableitung auf der linken Seite der Gleichung. Ein einfacher Ansatz, um die DGL zu lösen ist, auf beiden Seiten unbestimmt zu integrieren. Wir erhalten\n",
    "\n",
    "$$\\int y''(x)\\, dx = \\int -\\sin(x)\\, dx \\quad \\Rightarrow \\quad y'(x) = \\cos(x) + C_1.$$\n",
    "\n",
    "Die Integrationskonstante, die eigentlich auch auf der linken Seite entstanden wäre, haben wir dabei schon auf die rechte Seite gebracht. Nun haben wir eine DGL mit der 1. Ableitung der gesuchten Funktion. Wir integrieren einfach noch einmal unbestimmt auf beiden Seiten und bekommen\n",
    "\n",
    "$$\\int y'(x)\\, dx = \\int \\cos(x) + C_1 \\, dx \\quad \\Rightarrow \\quad y(x) = \\sin(x) + C_1 x + C_2.$$\n",
    "\n",
    "Die gefundene Funktion $y(x)=\\sin(x)+C_1 x + C_2$ ist nicht nur *eine* Funktion, sondern eine ganze Schar von Funktionen. Es können zwei verschiedene Parameter $C_1$ und $C_2$ gewählt werden und für jeden der beiden Parameter gibt es unendlich viele Möglichkeiten.\n"
   ]
  },
  {
   "cell_type": "markdown",
   "id": "db82cc60-91ee-4f38-ab07-deea224931e7",
   "metadata": {},
   "source": [
    "```{admonition} Mini-Übung\n",
    ":class: miniexercise\n",
    "Überprüfen Sie, ob die folgenden drei Variationen von $C_1$ und $C_2$ tatsächlich die DGL\n",
    "\n",
    "$$y''(x)=-\\sin(x)$$\n",
    "\n",
    "erfüllen.\n",
    "\n",
    "a) $C_1 = 1$ und $C_2 = 0$, also $y_1(x) = \\sin(x) + x$ <br>\n",
    "b) $C_1 = 0$ und $C_2 = 1$, also $y_2(x) = \\sin(x) + 1$ <br>\n",
    "c) $C_1 = -2$ und $C_2 = 3$, also $y_3(x) = \\sin(x) -2x + 3$<br>\n",
    "```\n",
    "\n",
    "```{admonition} Lösung --> TODO\n",
    ":class: minisolution, toggle\n",
    "TODO\n",
    "```"
   ]
  },
  {
   "cell_type": "markdown",
   "id": "0f8e9bd6-94c3-41f3-b325-00863a35c11c",
   "metadata": {},
   "source": [
    "Durch dieses Beispiel haben wir zwei Sachen kennengelernt, die typisch für Differentialgleichungen sind:\n",
    "\n",
    "* Um die gesuchte Funktion einer Differentialgleichung zu finden, müssen wir integrieren.\n",
    "* Je höher die Ableitung der gesuchten Funktion ist, desto öfter müssen wir integrieren. Und je öfter wir integrieren müssen, desto mehr Integrationskonstanten entstehen.\n",
    "\n",
    "Der Grad der höchsten Ableitung der gesuchten Funktion ist so wichtig, dass Differentialgleichungen danach eingeteilt werden. Wir halten daher folgende Definition fest. "
   ]
  },
  {
   "cell_type": "markdown",
   "id": "43431bba-5c57-40ae-b372-839f68768a39",
   "metadata": {},
   "source": [
    "```{admonition} Was ist ... die Ordnung einer DGL?\n",
    "Die höchste vorkommene Ableitung der gesuchten Funktion nennen wir **Ordnung** der Differentialgleichung.\n",
    "```"
   ]
  },
  {
   "cell_type": "code",
   "execution_count": 1,
   "id": "db07acef-1a0b-40ab-bfed-6e7229a05b00",
   "metadata": {},
   "outputs": [],
   "source": [
    "# TODO:\n",
    "\n",
    "# gewöhnliche vs. partielle DGL\n",
    "# Explizit und implizit"
   ]
  }
 ],
 "metadata": {
  "kernelspec": {
   "display_name": "Python 3 (ipykernel)",
   "language": "python",
   "name": "python3"
  },
  "language_info": {
   "codemirror_mode": {
    "name": "ipython",
    "version": 3
   },
   "file_extension": ".py",
   "mimetype": "text/x-python",
   "name": "python",
   "nbconvert_exporter": "python",
   "pygments_lexer": "ipython3",
   "version": "3.9.13"
  }
 },
 "nbformat": 4,
 "nbformat_minor": 5
}
