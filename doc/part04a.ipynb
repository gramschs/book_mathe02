{
 "cells": [
  {
   "cell_type": "code",
   "execution_count": 8,
   "id": "a38e65fc-a661-41c2-9b2d-eb6ae820900e",
   "metadata": {
    "tags": [
     "remove-input"
    ]
   },
   "outputs": [],
   "source": [
    "from IPython.display import IFrame"
   ]
  },
  {
   "cell_type": "markdown",
   "id": "826175db-b9c4-4c7e-941a-2e61c2313a9d",
   "metadata": {},
   "source": [
    "# Potenzreihen \n",
    "\n",
    "Polynome haben schöne Eigenschaften, vor allem sind sie einfach abzuleiten oder zu integrieren. In der Praxis ist es daher oft sinnvoll, \"schwierige\" Funktionen durch Polynome zu ersetzen, auch wenn man dafür Fehler macht.\n",
    "\n",
    "Diese Vorgehensweise wird **Approximation** genannt, zu deutsch Annäherung. Für Zahlen haben Sie dies schon kennengelernt. Wenn Sie beispielsweise den Flächeninhalt $A$ eines Kreises mit Radius $r = 3 \\,\\text{m}$ berechnen wollen, so gilt $A = \\pi \\cdot r^2 = 9\\pi$. Da aber $\\pi$ unendlich viele Nachkommastellen hat, legen Sie fest, wie genau die Annäherung an den wahren Flächeninhalt sein soll, indem Sie die Anzahl der Nachkommastellen festlegen. Reichen Ihnen beispielsweise 2 Nachkommastellen, also $\\pi \\approx 3.14$, so erhalten Sie $A = 28.27 \\,\\text{m}^2$.\n",
    "\n",
    "In diesem Kapitel geht es um Potenzreihen und die Approximation von Funktionen durch Potenzreihen. Um den Inhalt dieses Kapitels zu verstehen, werden Kentnisse zu\n",
    "\n",
    "* Reihen, insbesondere die geometrische Reihe\n",
    "* Konvergenz von Reihen\n",
    "* Konvergenzkriterien für Reihen wie beispielsweise\n",
    "    * Quotientenkriterium\n",
    "    * Wurzelkriterium\n",
    "    \n",
    "vorausgesetzt."
   ]
  },
  {
   "cell_type": "markdown",
   "id": "0e33377b-2200-47d3-972c-11f11444599c",
   "metadata": {},
   "source": [
    "```{admonition} Lernziele\n",
    ":class: tip\n",
    "* Sie können den Unterschied zwischen einer **Potenzreihe** und einer Reihe erklären.\n",
    "* Sie können die **spezielle Darstellungsform einer Potenzreihe** \n",
    "\n",
    "$$p(x)=\\sum_{k=0}^{\\infty}a_k x^k$$\n",
    "auswendig aufschreiben.\n",
    "* Sie können die **allgemeine Darstellungsform einer Potenzreihe** \n",
    "\n",
    "$$p(x)=\\sum_{k=0}^{\\infty}a_k (x-x_0)^k$$\n",
    "auswendig aufschreiben und erklären, was ein **Entwicklungspunkt** ist.\n",
    "* Sie können erklären, was der **Konvergenzbereich** einer Potenzreihe ist.\n",
    "* Sie können den Konvergenzbereich einer Potenzreihe geometrisch interpretieren und anhand des **Konvergenzradius** entscheiden, ob eine Potenzreihe konvergiert oder divergiert oder berechnen, was in den **Randpunkten** passiert.\n",
    "* Sie kennen zwei Formeln auswendig, um den Konvergenzradius $r$ einer Potenzreihe zu berechnen, nämlich\n",
    "\n",
    "$$r = \\lim_{k\\to\\infty}\\left| \\frac{a_k}{a_{k+1}}\\right| \\quad \\text{ und } \\quad r = \\lim_{k\\to\\infty}\\frac{1}{\\sqrt[k]{|a_k|}},$$\n",
    "\n",
    "und können diese auch anwenden. \n",
    "```"
   ]
  },
  {
   "cell_type": "markdown",
   "id": "9f684155-46f2-4263-ab2b-11e428075b80",
   "metadata": {},
   "source": [
    "## Potenzreihen sind auch nur Reihen, aber Reihen von Potenzfunktionen\n",
    "\n",
    "Bisher haben wir Zahlenfolgen aufsummiert und die Folge der Partialsummen als Reihe bezeichnet. Nun summieren wir Potenzfunktionen auf. Zur Erinnerung, Potenzfunktionen (manchmal auch kurz als Potenz bezeichnet) sind die Funktionen\n",
    "\n",
    "$$1, x^1, x^2, x^3, \\ldots.$$\n",
    "\n",
    "````{prf:definition}\n",
    ":label: def:04a:01\n",
    "Eine **Potenzreihe** ist eine Reihe vom Typ\n",
    "\n",
    "$$p(x)=a_0 + a_1x + a_2x^2 + a_3 x^3 + \\ldots = \\sum_{k=0}^{\\infty}a_k x^k.$$\n",
    "\n",
    "Die reellen Zahlen $a_0, a_1, a_2, \\ldots$ nennt man **Koeffizienten** der Potenzreihe.\n",
    "````"
   ]
  },
  {
   "cell_type": "markdown",
   "id": "5a673010-40dc-4afa-980d-ce12e185d8d6",
   "metadata": {},
   "source": [
    "Etwas allgemeiner formulieren wir die Potenzreihe als\n",
    "\n",
    "$$p(x)=a_0 + a_1\\cdot(x-x_0) + a_2\\cdot(x-x_0)^2 + a_3\\cdot(x-x_0)^3+\\ldots = \\sum_{k=0}^{\\infty}a_k (x-x_0)^k.$$\n",
    "\n",
    "Dabei wird der spezielle Punkt $x_0$ in der Industrie **Arbeitspunkt** genannt, in der Mathematik sagen wir aber **Entwicklungspunkt**."
   ]
  },
  {
   "cell_type": "markdown",
   "id": "01880331-97fc-457a-8a72-dde80d352345",
   "metadata": {},
   "source": [
    "## Manchmal kann man eine Funktion mit einer Potenzreihe approximieren, manchmal nicht\n",
    "\n",
    "Experiment:\n",
    "\n",
    "1. Gehen Sie mit Ihrem Mauszeiger auf das GeoGebra-Applet und klicken Sie darauf (ggf. auf den Pfeil klicken), um es zu aktivieren.\n",
    "2. Schauen Sie sich zunächst die Approximation der Kosinusfunktion an. Schieben Sie den Slider für n von 1 bis 30 und beobachten Sie? Ab wann ist Ihrer Meinung nach die Potenzreihe eine gute Approximation der Kosinusfunktion? \n",
    "3. Ändern Sie jetzt die Funktion und geben Sie `f(x) = ln(x)` ein. Schieben Sie den Schieberegler wieder von 1 bis 30. Was beobachten Sie diesmal?"
   ]
  },
  {
   "cell_type": "code",
   "execution_count": 9,
   "id": "9616e7f8-3ce5-4561-909b-3e75b0a9607e",
   "metadata": {
    "tags": [
     "remove-input"
    ]
   },
   "outputs": [
    {
     "data": {
      "text/html": [
       "\n",
       "        <iframe\n",
       "            width=\"800\"\n",
       "            height=\"600\"\n",
       "            src=\"https://www.geogebra.org/m/s9SkCsvC\"\n",
       "            frameborder=\"0\"\n",
       "            allowfullscreen\n",
       "            \n",
       "        ></iframe>\n",
       "        "
      ],
      "text/plain": [
       "<IPython.lib.display.IFrame at 0x7fb4094a5550>"
      ]
     },
     "execution_count": 9,
     "metadata": {},
     "output_type": "execute_result"
    }
   ],
   "source": [
    "IFrame(src='https://www.geogebra.org/m/s9SkCsvC', width=800, height=600)"
   ]
  },
  {
   "cell_type": "markdown",
   "id": "16d474b6-40c8-4b3a-ae50-dd3710823716",
   "metadata": {},
   "source": [
    "## Der Konvergenzradius entscheidet, ob und wo eine Funktion durch Potenzreihen approximiert werden kann\n",
    "\n",
    "Die folgenden Erklärvideos erklären, wann eine Potenzreihe gegen eine Funktion konvergiert und wie die beiden Konvergenzkriterien\n",
    "* Quotientenkriterium\n",
    "* Wurzelkriterium\n",
    "\n",
    "funktionieren.\n"
   ]
  },
  {
   "cell_type": "code",
   "execution_count": 11,
   "id": "60f7369a-d7cc-480f-8df3-5038d3a97b80",
   "metadata": {
    "tags": [
     "remove-input"
    ]
   },
   "outputs": [
    {
     "data": {
      "text/html": [
       "\n",
       "        <iframe\n",
       "            width=\"560\"\n",
       "            height=\"315\"\n",
       "            src=\"https://www.youtube.com/embed/69PgueE9CI0\"\n",
       "            frameborder=\"0\"\n",
       "            allowfullscreen\n",
       "            \n",
       "        ></iframe>\n",
       "        "
      ],
      "text/plain": [
       "<IPython.lib.display.IFrame at 0x7fb4094a50d0>"
      ]
     },
     "execution_count": 11,
     "metadata": {},
     "output_type": "execute_result"
    }
   ],
   "source": [
    "IFrame(src='https://www.youtube.com/embed/69PgueE9CI0', width=560, height=315)"
   ]
  },
  {
   "cell_type": "code",
   "execution_count": 12,
   "id": "908a9b81-0be4-4c47-a475-fc503020a418",
   "metadata": {
    "tags": [
     "remove-input"
    ]
   },
   "outputs": [
    {
     "data": {
      "text/html": [
       "\n",
       "        <iframe\n",
       "            width=\"560\"\n",
       "            height=\"315\"\n",
       "            src=\"https://www.youtube.com/embed/yO2mP5aToMU\"\n",
       "            frameborder=\"0\"\n",
       "            allowfullscreen\n",
       "            \n",
       "        ></iframe>\n",
       "        "
      ],
      "text/plain": [
       "<IPython.lib.display.IFrame at 0x7fb4094a55b0>"
      ]
     },
     "execution_count": 12,
     "metadata": {},
     "output_type": "execute_result"
    }
   ],
   "source": [
    "IFrame(src=\"https://www.youtube.com/embed/yO2mP5aToMU\", width=560, height=315) "
   ]
  },
  {
   "cell_type": "code",
   "execution_count": 13,
   "id": "e5a50d8d-16ad-47de-99d8-f973a656a40a",
   "metadata": {
    "tags": [
     "remove-input"
    ]
   },
   "outputs": [
    {
     "data": {
      "text/html": [
       "\n",
       "        <iframe\n",
       "            width=\"560\"\n",
       "            height=\"315\"\n",
       "            src=\"https://www.youtube.com/embed/ConZiKDKA9Q\"\n",
       "            frameborder=\"0\"\n",
       "            allowfullscreen\n",
       "            \n",
       "        ></iframe>\n",
       "        "
      ],
      "text/plain": [
       "<IPython.lib.display.IFrame at 0x7fb4094a5f10>"
      ]
     },
     "execution_count": 13,
     "metadata": {},
     "output_type": "execute_result"
    }
   ],
   "source": [
    "IFrame(width=560, height=315, src=\"https://www.youtube.com/embed/ConZiKDKA9Q\")"
   ]
  }
 ],
 "metadata": {
  "kernelspec": {
   "display_name": "Python 3 (ipykernel)",
   "language": "python",
   "name": "python3"
  },
  "language_info": {
   "codemirror_mode": {
    "name": "ipython",
    "version": 3
   },
   "file_extension": ".py",
   "mimetype": "text/x-python",
   "name": "python",
   "nbconvert_exporter": "python",
   "pygments_lexer": "ipython3",
   "version": "3.9.12"
  }
 },
 "nbformat": 4,
 "nbformat_minor": 5
}
