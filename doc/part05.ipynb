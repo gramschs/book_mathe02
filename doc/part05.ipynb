{
 "cells": [
  {
   "cell_type": "markdown",
   "id": "3e675a9d-dbbf-4796-a81c-a9cd9cb14bcf",
   "metadata": {},
   "source": [
    "# Fourier-Reihen\n"
   ]
  },
  {
   "cell_type": "markdown",
   "id": "b82fd025-a792-4a11-a1bd-0b65102d6383",
   "metadata": {},
   "source": [
    "## Lernziele Fourier-Reihen\n",
    "\n",
    "```{admonition} Lernziele\n",
    ":class: tip\n",
    "* Sie können erklären, was eine **periodische Funktion** ist.\n",
    "* Sie können von einer periodischen Funktion die **Periode** bestimmen.\n",
    "* Sie kennen die Kriterien, wann eine Funktion in eine **Fourier-Reihe** entwickelt werden darf.\n",
    "* Sie können eine periodische Funktion in eine Fourier-Reihe umschreiben.\n",
    "* Sie können die **Fourier-Koeffizienten** berechnen. \n",
    "```"
   ]
  }
 ],
 "metadata": {
  "kernelspec": {
   "display_name": "Python 3.9.7 ('python39')",
   "language": "python",
   "name": "python397jvsc74a57bd01863971d65633e53ca5b74972b86a14fab6d597ce2ac84dc984546545d2d3a9b"
  },
  "language_info": {
   "codemirror_mode": {
    "name": "ipython",
    "version": 3
   },
   "file_extension": ".py",
   "mimetype": "text/x-python",
   "name": "python",
   "nbconvert_exporter": "python",
   "pygments_lexer": "ipython3",
   "version": "3.9.7"
  }
 },
 "nbformat": 4,
 "nbformat_minor": 5
}
