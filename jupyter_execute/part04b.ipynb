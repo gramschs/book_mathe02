{
 "cells": [
  {
   "cell_type": "code",
   "execution_count": 1,
   "id": "32dc838f-d18c-4146-9f97-64ad32cc7e25",
   "metadata": {
    "tags": [
     "remove-input"
    ]
   },
   "outputs": [],
   "source": [
    "import numpy as np\n",
    "import pandas as pd\n",
    "import plotly.express as px\n",
    "\n",
    "from IPython.display import HTML, IFrame, Image"
   ]
  },
  {
   "cell_type": "markdown",
   "id": "cf74333d-08f8-4ec3-9e81-5f19277a552c",
   "metadata": {},
   "source": [
    "# Taylorreihen\n",
    "\n",
    "Im Kapitel über Potenzreihen haben wir uns bereits mit der Frage beschäftigt, in welchem Intervall eine Potenzreihe eine gegebene Funktion gut approximiert. Was uns aber noch fehlt ist die Frage, wie wir zu solchen Potenzreihen kommen. Daher gibt es in diesem Kapitel eine Anleitung dazu.\n",
    "\n",
    "Um den Inhalt dieses Kapitels zu verstehen, werden Kentnisse über\n",
    "\n",
    "* Potenzreihen\n",
    "\n",
    "vorausgesetzt."
   ]
  },
  {
   "cell_type": "markdown",
   "id": "5042907e-33ab-4b92-89d9-acb04c978e2c",
   "metadata": {},
   "source": [
    "## Lernziele Taylorreihen\n",
    "\n",
    "```{admonition} Lernziele\n",
    ":class: tip\n",
    "* Sie kennen die Formel für ein **Taylorpolynom der Ordnung n** auswendig.\n",
    "* Sie können mit der Formel für das **Taylor-Restglied** berechnen, wie groß der Fehler zwischen der Funktion $f$ und dem Taylorpolynom $T_n$ an einer bestimmten Stelle $x$ wird.\n",
    "* Sie kennen die Formel für die **Taylorreihe** auswendig.\n",
    "```"
   ]
  },
  {
   "cell_type": "markdown",
   "id": "0c6a5499-9d4e-4be6-9af7-16f81f6e8b44",
   "metadata": {},
   "source": [
    "## Taylorpolynom\n",
    "\n",
    "Taylorpolynome sind nichts anderes als eine Potenzreihe für eine Funktion $f(x)$, aber wir lernen hier ein Kochrezept kennen, um die Koeffizienten zu berechnen.\n",
    "\n",
    "````{prf:definition}\n",
    ":label: def:04b:01\n",
    "Ein **Taylorpolynom** ist eine Potenzreihe für eine Funktion $f(x)$, bei der die Koeffizienten berechnet werden, indem die Entwicklungsstelle $x_0$ in die Ableitungen der Funktion eingesetzt werden, also\n",
    "\n",
    "$$T(x)=f(x_0) + \\frac{f'(x_0)}{1!}(x-x_0)^1 + \\frac{f''(x_0)}{2!}(x-x_0)^2 + \\ldots. $$\n",
    "\n",
    "Dabei steht $n!$ für die Fakultät der Zahl $n$.\n",
    "````\n"
   ]
  },
  {
   "cell_type": "markdown",
   "id": "302dcc3c-1fd7-473e-a8d0-4c017d2cec4f",
   "metadata": {},
   "source": [
    "## Kochrezept zur Berechnung von Taylorpolynomen\n",
    "\n",
    "1. Erst einmal folgende Frage beantworten: Bis zu welchem Polynomgrad $n$ soll die Funktion $f(x)$ approximiert werden? $\\rightarrow n$ aufschreiben\n",
    "2. Die ersten $n$ Ableitungen der Funktion $f$ bestimmen, also $f'(x), f''(x), f'''(x), f^{(iv)}(x), \\ldots$.\n",
    "3. Die Koeffizienten ausrechnen, indem nun der Entwicklungspunkt $x_0$ in die Funktion $f$ und in die Ableitungen eingesetzt wird.\n",
    "4. Die Fakultäten ausrechnen.\n",
    "5. Alles in die Formel für das Taylorpolynom einsetzen.\n",
    "\n",
    "Am besten das folgende Video gucken :-)"
   ]
  },
  {
   "cell_type": "code",
   "execution_count": 2,
   "id": "11a4fc27-8adc-426b-ba82-aa9467eb699a",
   "metadata": {
    "tags": [
     "remove-input"
    ]
   },
   "outputs": [
    {
     "data": {
      "text/html": [
       "\n",
       "<iframe\n",
       "    width=\"560\"\n",
       "    height=\"315\"\n",
       "    src=\"https://www.youtube.com/embed/o95cOqnLekw\"\n",
       "    frameborder=\"0\"\n",
       "    allowfullscreen\n",
       "\n",
       "></iframe>\n"
      ],
      "text/plain": [
       "<IPython.lib.display.IFrame at 0x104f00f10>"
      ]
     },
     "execution_count": 2,
     "metadata": {},
     "output_type": "execute_result"
    }
   ],
   "source": [
    "IFrame(width=560, height=315, src=\"https://www.youtube.com/embed/o95cOqnLekw\")"
   ]
  },
  {
   "cell_type": "markdown",
   "id": "6e327139-8cf3-479b-bc55-13d8762972b3",
   "metadata": {},
   "source": [
    "## Taylor-Restglied \n",
    "\n",
    "Wenn wir ein Taylorpolynom zu einer Funktion vorliegen haben, wäre es gut zu wissen, wie gut unsere Approximation ist. Die Formel mit dem sogenannten Taylor-Restglied \n",
    "\n",
    "$$f(x) = T_n(x) + \\frac{1}{(n+1)!}f^{(n+1)}(u)\\cdot(x-x_0)^{n+1},$$\n",
    "\n",
    "hilft uns dabei, denn jetzt können wir den Fehler abschätzen als\n",
    "\n",
    "$$|f(x)-T_n(x)| = |\\frac{1}{(n+1)!}f^{(n+1)}(u)\\cdot(x-x_0)^{n+1}|.$$"
   ]
  },
  {
   "cell_type": "markdown",
   "id": "5d90372e-a228-4e8d-af25-1573628de486",
   "metadata": {},
   "source": [
    "\n",
    "Leider ist die Formel nicht ganz so einfach anzuwenden, denn es steckt ein $u$ darin, das nicht genau spezifiziert ist. $u$ ist irgendeine Stelle zwischen dem Entwicklungspunkt $x_0$ und $x$, die man nicht genau kennt. Aber wir können in diesem Bereich einfach das Maximum $M$ von $f^{(n+1)}(u)$ für alle Punkte zwischen $x_0$ und $x$ bilden und dann als Abschätzung das Maximum verwenden:\n",
    "\n",
    "$$|f(x)-T_n(x)| \\leq \\frac{1}{(n+1)!}\\cdot M \\cdot |x-x_0|^{n+1}.$$\n",
    " \n",
    "Eine Erklärung dazu finden Sie in dem folgenden Video."
   ]
  },
  {
   "cell_type": "code",
   "execution_count": 3,
   "id": "6dc494a0-65f4-4fc1-afe8-ab9b6ee26436",
   "metadata": {
    "tags": [
     "remove-input"
    ]
   },
   "outputs": [
    {
     "data": {
      "text/html": [
       "\n",
       "<iframe\n",
       "    width=\"560\"\n",
       "    height=\"315\"\n",
       "    src=\"https://www.youtube.com/embed/oz1hejsyNlk\"\n",
       "    frameborder=\"0\"\n",
       "    allowfullscreen\n",
       "\n",
       "></iframe>\n"
      ],
      "text/plain": [
       "<IPython.lib.display.IFrame at 0x104ee1f40>"
      ]
     },
     "execution_count": 3,
     "metadata": {},
     "output_type": "execute_result"
    }
   ],
   "source": [
    "IFrame(width=560, height=315, src=\"https://www.youtube.com/embed/oz1hejsyNlk\")"
   ]
  },
  {
   "cell_type": "markdown",
   "id": "f9826dc3-90eb-4c21-9a98-c0566380fdcf",
   "metadata": {},
   "source": [
    "## Taylorreihe\n",
    "\n",
    "Und was ist nun die Taylorreihe? Ganz einfach, ein Taylorpolynom, das bis Unendlich geht, sieht nur kompliziert aus, wenn man es formal aufschreibt:\n",
    "\n",
    "$$T(x)=\\sum_{i=0}^{\\infty} \\frac{f^{(n)}(x_0)}{n!} (x-x_0)^n.$$\n"
   ]
  }
 ],
 "metadata": {
  "kernelspec": {
   "display_name": "Python 3 (ipykernel)",
   "language": "python",
   "name": "python3"
  },
  "language_info": {
   "codemirror_mode": {
    "name": "ipython",
    "version": 3
   },
   "file_extension": ".py",
   "mimetype": "text/x-python",
   "name": "python",
   "nbconvert_exporter": "python",
   "pygments_lexer": "ipython3",
   "version": "3.9.15"
  }
 },
 "nbformat": 4,
 "nbformat_minor": 5
}