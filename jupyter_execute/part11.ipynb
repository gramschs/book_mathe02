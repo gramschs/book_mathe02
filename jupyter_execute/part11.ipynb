{
 "cells": [
  {
   "cell_type": "code",
   "execution_count": 1,
   "id": "e1a62d6a-4384-422d-b526-ef7cb0f1ec44",
   "metadata": {
    "tags": [
     "remove-input"
    ]
   },
   "outputs": [],
   "source": [
    "from IPython.display import IFrame"
   ]
  },
  {
   "cell_type": "markdown",
   "id": "25bed167-754e-49d1-bcbb-80ba13ee36b1",
   "metadata": {},
   "source": [
    "# Differentialgleichungen: grundlegende Begriffe und separable Differentialgleichungen\n",
    "\n",
    "\n",
    "## Lernziele\n",
    "```{admonition} Lernziele\n",
    ":class: tip\n",
    "* Sie können erklären, was eine **gewöhnliche Differentialgleichung** und was eine **partielle Differentialgleichung** ist.\n",
    "* Sie können die **Ordnung einer Differentialgleichung** ablesen.\n",
    "* Sie können den Unterschied zwischen den Fachbegriffen **allgemeine Lösung einer Differentialgleichung** und **spezielle Lösung einer Differentialgleichung** erklären.\n",
    "* Sie können unterscheiden, ob eine Differentialgleichung in der **expliziten Form** oder der **impliziten Form** formuliert wurde.\n",
    "* Sie können eine **separable Differentialgleichung** lösen. \n",
    "* Sie können das **Verfahren zur Trennung der Variablen** anwenden.\n",
    "```"
   ]
  },
  {
   "cell_type": "markdown",
   "id": "50a70300-f25d-4ebe-ba99-6ce26766f13c",
   "metadata": {},
   "source": [
    "## Grundlegende Begriffe zu Differentialgleichungen\n",
    "\n",
    "Wir betrachten ein Beispiel aus der Technischen Mechanik. Die Seilkraft variiert mit dem Winkel $\\varphi$ und genügt der Differentialgleichung\n",
    "\n",
    "$$\\frac{dS(\\varphi)}{d\\varphi}=\\mu_0 \\cdot S(\\varphi) \\quad\\text{ bzw. kurz }\\quad \\frac{dS}{d\\varphi}=\\mu_0 S.$$\n",
    "\n",
    "Damit haben wir also eine Gleichung, bei der eine Funktion gesucht wird. Außerdem kommt in der Gleichung noch die 1. Ableitung der gesuchten Funktion vor. \n",
    "\n",
    "````{prf:definition}\n",
    ":label: def:11:01\n",
    "Eine Gleichung, bei der eine Funktion gesucht wird und ihre Ableitungen vorkommen, nennen wir **Differentialgleichung**.\n",
    "````\n",
    "\n"
   ]
  },
  {
   "cell_type": "markdown",
   "id": "192f736c-aab2-4431-953f-f2b9da8c01a9",
   "metadata": {},
   "source": [
    "Eine Funktion heißt **Lösung der Differentialgleichung**, wenn sie eingesetzt in die Gleichung diese Gleichung erfüllt. Dabei können mehrere Funktionen die Differentialgleichung lösen.\n",
    "\n",
    "Beispiel:\n",
    "\n",
    "$$f''(x) + 4\\cdot f(x) = 0$$\n",
    "\n",
    "Mögliche Lösungen:\n",
    "\n",
    "* $f_1(x)=\\sin(2x) \\Rightarrow f_1'(x) = 2\\cos(2x)\\text{ und } f_1''(x)=-4\\sin(2x)$  <br>\n",
    "eingesetzt $\\Rightarrow -4\\sin(2x) + 4\\cdot \\sin(2x)=0$ \n",
    "\n",
    "* $f_2(x)=\\cos(2x) \\Rightarrow f_2'(x) = -2\\sin(2x)\\text{ und } f_2''(x)=-4\\cos(2x)$ <br>\n",
    "eingesetzt $\\Rightarrow -4\\cos(2x) + 4\\cdot \\cos(2x)=0$ \n",
    "\n",
    "Leider gibt es nicht für alle Differentialgleichungen ein Lösungsverfahren, um die gesuchte Funktion zu berechnen. Nur für einige Typen von Differentialgleichungen gibt es Lösungsverfahren, die sich aber je nach Art der Differentialgleichung unterscheiden.\n",
    "\n",
    "Klassifikation von Differentialgleichungen:\n",
    "\n",
    "* gewöhnlich oder partiell:\n",
    "    * gewöhnliche DGL: nur Ableitungen nach einer Variablen\n",
    "    * partielle DGL: Ableitungen nach mehreren Variablen\n",
    "* Ordnung: höchste vorkommene Ableitung\n",
    "* explizit oder implizit\n",
    "    * explizit: die höchste Ableitung steht auf einer Seite der Gleichung, alle anderen Terme auf der anderen Seite\n",
    "    * implizit: Gegenteil von explizit\n",
    "\n"
   ]
  },
  {
   "cell_type": "markdown",
   "id": "e3b11a4b-653e-4653-8ce2-ca7fc7732d04",
   "metadata": {},
   "source": [
    "Alle Lösungsfunktionen einer Differentialgleichung nennt man die **allgemeine Lösung der Differentialgleichung**.\n",
    "\n",
    "Eine Differentialgleichung der Ordnung $n$ hat noch $n$ Parameter, die sogenannten Integrationskonstanten. \n",
    "\n",
    "Beispiel Seilkraft:\n",
    "\n",
    "$$\\frac{dS(\\varphi)}{d\\varphi}=\\mu_0 \\cdot S(\\varphi).$$\n",
    "\n",
    "Die allgemeine Lösung dieser DGL 1. Ordnung ist\n",
    "\n",
    "$$S(\\varphi)=C e^{\\mu_0\\varphi}$$\n",
    "\n",
    "mit einem Parameter $C$, wie wir durch Nachrechnen überprüfen: \n",
    "\n",
    "$$S'(\\varphi)=\\mu_0\\cdot Ce^{\\mu_0\\varphi} \\quad\\Rightarrow\\quad \\mu_0 \\cdot C e^{\\mu_0 \\varphi} = \\mu_0 \\cdot C e^{\\mu_0 \\varphi}.$$"
   ]
  },
  {
   "cell_type": "markdown",
   "id": "9b1aaaaf-0dff-430c-87af-5de2f5dfb911",
   "metadata": {},
   "source": [
    "Um ein konkretes Problem aus der Technik zu lösen, müssen die Parameter (Integrationskonstanten) noch spezifiziert werden. Dazu brauchen wir mehr Informationen über das Problem, das mit der Differentialgleichung gelöst werden soll. Es kommen noch\n",
    "\n",
    "* Anfangsbedingungen und/oder\n",
    "* Randwerte\n",
    "\n",
    "dazu. Die Lösung einer DGL für diese Anfangsbedingungen und/oder Randwerte wird dann **spezielle Lösung der DGL** genannt."
   ]
  },
  {
   "cell_type": "markdown",
   "id": "1579c3ce-7629-4e64-b28d-776bbacf78a0",
   "metadata": {},
   "source": [
    "Beispiel Seilkraft: Die DGL\n",
    "\n",
    "$$\\frac{dS(\\varphi)}{d\\varphi}=\\mu_0 \\cdot S(\\varphi)$$\n",
    "\n",
    "hat die allgemeine Lösung \n",
    "\n",
    "$$S(\\varphi)=C e^{\\mu_0\\varphi}.$$\n",
    "\n",
    "Wir fordern, dass für einen Umlaufwinkel von $\\varphi=0$ die Seilkraft genau $F_0$ entspricht (= Anfangsbedingung), also\n",
    "\n",
    "$$S(0) =C e^{\\mu_0 \\cdot 0} \\overset{!}{=} F_0 \\quad \\Rightarrow C = F_0.$$\n",
    "\n",
    "Spezielle Lösung für die Seilkraft: $S(\\varphi)=F_0 e^{\\mu_0\\varphi}$"
   ]
  },
  {
   "cell_type": "code",
   "execution_count": 2,
   "id": "46626b85-6eeb-4188-ba93-d1f17d46a5ea",
   "metadata": {
    "tags": [
     "remove-input"
    ]
   },
   "outputs": [
    {
     "data": {
      "text/html": [
       "\n",
       "<iframe\n",
       "    width=\"720\"\n",
       "    height=\"405\"\n",
       "    src=\"https://frankfurt-university.cloud.panopto.eu/Panopto/Pages/Embed.aspx?id=04438dac-a6b8-4983-b265-ad5500f3ef3a&autoplay=false&offerviewer=true&showtitle=true&showbrand=true&captions=false&interactivity=all\"\n",
       "    frameborder=\"0\"\n",
       "    allowfullscreen\n",
       "\n",
       "></iframe>\n"
      ],
      "text/plain": [
       "<IPython.lib.display.IFrame at 0x105740b20>"
      ]
     },
     "execution_count": 2,
     "metadata": {},
     "output_type": "execute_result"
    }
   ],
   "source": [
    "IFrame(src=\"https://frankfurt-university.cloud.panopto.eu/Panopto/Pages/Embed.aspx?id=04438dac-a6b8-4983-b265-ad5500f3ef3a&autoplay=false&offerviewer=true&showtitle=true&showbrand=true&captions=false&interactivity=all\", height=405, width=720)"
   ]
  },
  {
   "cell_type": "markdown",
   "id": "fbd62a52-968f-4af5-9e68-1b22ed5ff324",
   "metadata": {},
   "source": [
    "## Separable Diffenrentialgleichungen (Trennung der Variablen)\n",
    "\n",
    "Damit eine Differentialgleichung \\emph{separabel} ist, müssen zwei Bedigungen erfüllt sein.\n",
    "\n",
    "1. Die DGL muss von 1. Ordnung sein.\n",
    "2.  Die rechte Seite (vorausgesetzt die 1. Ableitung der gesuchten Funktion steht links) lässt sich als ein Produkt von zwei Funktionen schreiben, wobei eine Funktion nur von der Variablen $x$ abhängt und die andere Funktion nur von der gesuchten Funktion $y$ selbst, also\n",
    "\n",
    "$$y' = f(x)\\cdot g(y).$$\n"
   ]
  },
  {
   "cell_type": "markdown",
   "id": "eb153ad6-f827-4258-8b14-fc249e162c2c",
   "metadata": {},
   "source": [
    "Die DGL der Seilkraft $S'(\\varphi)=\\mu_0 \\cdot S(\\varphi)$ ist separabel.\n",
    "\n",
    "1. Sie ist von 1. Ordnung, da die höchste vorkommene Ableitung eine 1. Ableitung ist.\n",
    "2. Die rechte Seite ist ein Produkt $\\mu_0 \\cdot S(\\varphi)$, wo eine Funktion nur eine Konstante ist (nämlich $\\mu_0$) und die andere Funktion hängt nur von der gesuchten Funktion $S$ ab (denn es ist die gesuchte Funktion $S(\\varphi)$ selbst).\n",
    "\n",
    "Kochrezept zur Lösung separabler DGL (= Verfahrung zur Trennung der Variablen)\n",
    "\n",
    "Eine separable DGL\n",
    "\n",
    "$$y'  = \\frac{dy}{dx} = f(x)\\cdot g(y)$$\n",
    "\n",
    "lässt sich schrittweise wie folgt lösen:\n",
    "\n",
    "1. Trennnung der beiden Variablen (alles mit y nach links, alles mit x nach rechts)\n",
    "2. Integration auf beiden Seiten\n",
    "3. Auflösen nach y (falls möglich)"
   ]
  },
  {
   "cell_type": "markdown",
   "id": "817d61e1-5e3d-4137-b4c0-049c36dcc10d",
   "metadata": {},
   "source": [
    "Lösung der DGL Seilkraft:\n",
    "\n",
    "$$S'(\\varphi)=\\frac{dS(\\varphi)}{d\\varphi}=\\mu_0 \\cdot S(\\varphi)$$\n",
    "\n",
    "Schritt 1: Trennung der Variablen, alles mit $S$ nach links, alles mit $\\varphi$ nach rechts:\n",
    "\n",
    "$$\\frac{1}{S}ds = \\mu_0 d\\varphi $$\n",
    "\n",
    "Schritt 2: Integration auf beiden Seiten:\n",
    "\n",
    "$$\\int \\frac{1}{S}ds = \\int \\mu_0 d\\varphi \\quad \\Rightarrow \\quad \\ln(S) = \\mu_0 \\varphi + C_1$$\n",
    "\n",
    "Schritt 3: Auflösen nach $S$:\n",
    "\n",
    "$$S = e^{\\mu_0\\varphi + C_1} = C\\cdot e^{\\mu_0\\varphi} \\quad \\text{ mit } C = e^{C_1}.$$"
   ]
  },
  {
   "cell_type": "code",
   "execution_count": 3,
   "id": "271e9b03-db19-4b94-82e2-0a45b14a1ca3",
   "metadata": {
    "tags": [
     "remove-input"
    ]
   },
   "outputs": [
    {
     "data": {
      "text/html": [
       "\n",
       "<iframe\n",
       "    width=\"720\"\n",
       "    height=\"405\"\n",
       "    src=\"https://frankfurt-university.cloud.panopto.eu/Panopto/Pages/Embed.aspx?id=bc52e263-cf13-4313-8f1f-ad53009d2b3c&autoplay=false&offerviewer=true&showtitle=true&showbrand=true&captions=false&interactivity=all\"\n",
       "    frameborder=\"0\"\n",
       "    allowfullscreen\n",
       "\n",
       "></iframe>\n"
      ],
      "text/plain": [
       "<IPython.lib.display.IFrame at 0x105740e20>"
      ]
     },
     "execution_count": 3,
     "metadata": {},
     "output_type": "execute_result"
    }
   ],
   "source": [
    "IFrame(src=\"https://frankfurt-university.cloud.panopto.eu/Panopto/Pages/Embed.aspx?id=bc52e263-cf13-4313-8f1f-ad53009d2b3c&autoplay=false&offerviewer=true&showtitle=true&showbrand=true&captions=false&interactivity=all\", height=405, width=720)"
   ]
  }
 ],
 "metadata": {
  "kernelspec": {
   "display_name": "Python 3 (ipykernel)",
   "language": "python",
   "name": "python3"
  },
  "language_info": {
   "codemirror_mode": {
    "name": "ipython",
    "version": 3
   },
   "file_extension": ".py",
   "mimetype": "text/x-python",
   "name": "python",
   "nbconvert_exporter": "python",
   "pygments_lexer": "ipython3",
   "version": "3.9.15"
  }
 },
 "nbformat": 4,
 "nbformat_minor": 5
}