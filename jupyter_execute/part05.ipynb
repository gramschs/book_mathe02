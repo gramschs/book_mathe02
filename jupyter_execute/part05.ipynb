{
 "cells": [
  {
   "cell_type": "markdown",
   "id": "3e675a9d-dbbf-4796-a81c-a9cd9cb14bcf",
   "metadata": {},
   "source": [
    "# Fourier-Reihen\n",
    "\n",
    "Periodische Vorgänge gibt es sowohl in der Natur als auch in der Technik. In der Technik gehören insbesondere Drehbewegungen dazu. Es ist nicht sinnvoll, periodische Funktionen durch Potenzreihen bzw. Taylorpolynome zu approximieren. Stattdessen werden wir periodische Funktionen als Überlagerung von Sinus- und Kosinus-Funktionen approximieren, also sogenannte **Fourier-Reihen**."
   ]
  },
  {
   "cell_type": "markdown",
   "id": "b82fd025-a792-4a11-a1bd-0b65102d6383",
   "metadata": {},
   "source": [
    "## Lernziele Fourier-Reihen\n",
    "\n",
    "```{admonition} Lernziele\n",
    ":class: tip\n",
    "* Sie können erklären, was eine **periodische Funktion** ist.\n",
    "* Sie können von einer periodischen Funktion die **Periode** bestimmen.\n",
    "* Sie kennen die Kriterien, wann eine Funktion in eine **Fourier-Reihe** entwickelt werden darf.\n",
    "* Sie können eine periodische Funktion in eine Fourier-Reihe umschreiben.\n",
    "* Sie können die **Fourier-Koeffizienten** berechnen. \n",
    "```"
   ]
  },
  {
   "cell_type": "code",
   "execution_count": 1,
   "id": "fcae385c-eb7a-4685-8a5f-5c0148077db3",
   "metadata": {
    "tags": [
     "remove-input"
    ]
   },
   "outputs": [],
   "source": [
    "from IPython.display import IFrame"
   ]
  },
  {
   "cell_type": "markdown",
   "id": "486071fa-76e4-4630-9b88-b34c8c68f487",
   "metadata": {},
   "source": [
    "## Periodische Funktionen - was ist das?\n",
    "\n",
    "Bei einer periodischen Funktion wiederholen sich in regelmäßigen Abständen die Funktionswerte wieder. Der Abstand, nachdem sich die Funktionswerte beginnen zu wiederholen, heißt **Periodendauer**."
   ]
  },
  {
   "cell_type": "code",
   "execution_count": 2,
   "id": "4117c1af-d8ed-4811-bd2e-bbe58949fdf9",
   "metadata": {
    "tags": [
     "remove-input"
    ]
   },
   "outputs": [
    {
     "data": {
      "text/html": [
       "\n",
       "<iframe\n",
       "    width=\"560\"\n",
       "    height=\"315\"\n",
       "    src=\"https://www.youtube.com/embed/e3lpwsKp75Y\"\n",
       "    frameborder=\"0\"\n",
       "    allowfullscreen\n",
       "\n",
       "></iframe>\n"
      ],
      "text/plain": [
       "<IPython.lib.display.IFrame at 0x109b3fa60>"
      ]
     },
     "execution_count": 2,
     "metadata": {},
     "output_type": "execute_result"
    }
   ],
   "source": [
    "IFrame(width=560, height=315, src=\"https://www.youtube.com/embed/e3lpwsKp75Y\")"
   ]
  },
  {
   "cell_type": "markdown",
   "id": "6c8dee49-f009-4b06-af84-c609bac505aa",
   "metadata": {},
   "source": [
    "## Wie findet man zu einer periodischen Funktion die passende Überlagerung von Sinus- und Kosinus-Funktionen?\n",
    "\n",
    "Kochrezept zur Bestimmung der **Fourier-Reihe**:\n",
    "1. Bestimme $T$, also die Periode der Funktion $f(t)$.\n",
    "2. Berechne daraus die Kreisfrequenz der Grundschwingung $\\omega_0 = \\frac{2\\pi}{T}$.\n",
    "3. Berechne die Fourier-Koeffizienten $a_0$, $a_n$ und $b_n$ entweder allgemein für beliebiges $n$ oder bis zum geforderten Grad $n=1, 2, 3, \\ldots.$\n",
    "Die Fourier-Koeffizienten werden mit folgenden Formeln berechnet:\n",
    "\n",
    "\\begin{align*}\n",
    "a_0 &= \\frac{2}{T}\\cdot \\int_{T} f(t)\\, dt \\\\\n",
    "a_n &= \\frac{2}{T}\\cdot \\int_{T} f(t) \\cdot \\cos(n\\,\\omega_0 \\,t) \\, dt \\\\\n",
    "b_n &= \\frac{2}{T}\\cdot \\int_{T} f(t) \\cdot \\sin(n\\,\\omega_0 \\,t) \\, dt\n",
    "\\end{align*}\n",
    "4. Setze alles in die Formel für die Fourier-Reihe ein:\n",
    "\\begin{align*}f(t) = \\frac{a_0}{2} &+ a_1\\cdot \\cos(1\\,\\omega_0\\, t) + b_1\\cdot\\sin(1\\,\\omega_0\\, t) + \\\\\n",
    "&+ a_2\\cdot \\cos(2\\,\\omega_0\\, t) + b_2\\cdot\\sin(2\\,\\omega_0\\, t) +  \\\\\n",
    "&+ a_3\\cdot \\cos(3\\,\\omega_0\\, t) + b_3\\cdot\\sin(3\\,\\omega_0\\, t) + \\quad \\ldots \\\\\n",
    "\\end{align*}"
   ]
  }
 ],
 "metadata": {
  "kernelspec": {
   "display_name": "Python 3 (ipykernel)",
   "language": "python",
   "name": "python3"
  },
  "language_info": {
   "codemirror_mode": {
    "name": "ipython",
    "version": 3
   },
   "file_extension": ".py",
   "mimetype": "text/x-python",
   "name": "python",
   "nbconvert_exporter": "python",
   "pygments_lexer": "ipython3",
   "version": "3.9.15"
  }
 },
 "nbformat": 4,
 "nbformat_minor": 5
}