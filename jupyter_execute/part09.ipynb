{
 "cells": [
  {
   "cell_type": "code",
   "execution_count": 1,
   "id": "db1f5da1-0ac6-44f0-802f-7a24ce705de0",
   "metadata": {
    "tags": [
     "remove-input"
    ]
   },
   "outputs": [],
   "source": [
    "from IPython.display import IFrame"
   ]
  },
  {
   "cell_type": "markdown",
   "id": "8b381e09-66ec-4e44-8ed1-aba749b0352a",
   "metadata": {
    "tags": []
   },
   "source": [
    "# Doppelintegral\n",
    "\n",
    "Nachdem wir in den vorhergehenden Kapiteln Ableitungen von eindimensionalen Funktionen auf mehrdimensionale Funktionen verallgemeinert haben, werden wir in diesem Kapitel Integrale von Funktionen mit zwei Variablen betrachten.\n",
    "\n"
   ]
  },
  {
   "cell_type": "markdown",
   "id": "f8d2b64e-296a-436e-89b7-38a13f10eb2a",
   "metadata": {},
   "source": [
    "## Lernziele\n",
    "\n",
    "```{admonition} Lernziele\n",
    ":class: tip\n",
    "* Sie können erklären, was ein **Doppelintegral** $\\iint_{A} f(x,y)\\, dA$ ist.\n",
    "* Sie können ein **Doppelintegral in kartesischen Koordinaten** berechnen, indem Sie zuerst die **innere Integration** und dann die **äußere Integration** durchführen.\n",
    "* Sie können mit einem Doppelintegral den Flächeninhalt berechnen.\n",
    "* Sie können mit dem Doppelintegral den Schwerpunkt $(x_S, y_S)$ einer homogenen ebenen Fläche mit den Formeln\n",
    "\n",
    "$$x_S = \\frac{1}{A}\\iint_{A} x \\, dA \\quad \\text{ und } \\quad y_S = \\frac{1}{A} \\iint_{A} y\\, dA$$\n",
    "\n",
    "berechnen.\n",
    "```"
   ]
  },
  {
   "cell_type": "markdown",
   "id": "ddb56f1b-9405-49d9-bad5-792dc60eeabb",
   "metadata": {},
   "source": [
    "## Idee der Doppelintegrale\n",
    "\n",
    "Bei eindimensionalen Funktionen entspricht das Integral $\\int_{x_{min}}^{x_{max}} f(x)\\, dx$ dem Flächeninhalt der Fläche $A$ (siehe Abbildung)."
   ]
  },
  {
   "cell_type": "markdown",
   "id": "b3bcb365-1f99-4cc1-9f0c-8fe624cf04b5",
   "metadata": {},
   "source": [
    "```{figure} pics/part09_integral1D.svg\n",
    "---\n",
    "width: 300px\n",
    "name: fig_part09_integral1D\n",
    "---\n",
    "Integral entspricht dem Flächeninhalt\n",
    "\n",
    "([Quelle:](https://commons.wikimedia.org/w/index.php?curid=1039841) \"Wikimedia\", Autor: 4C - Eigenes Werk, based on JPG version, Lizenz: [CC BY-SA 3.0](https://creativecommons.org/licenses/by-sa/3.0/))\n",
    "```"
   ]
  },
  {
   "cell_type": "markdown",
   "id": "74a32e9c-52f1-471c-bd8e-1396939f4723",
   "metadata": {},
   "source": [
    "Dementsprechend beschreibt das Doppelintegral einer Funktion von zwei Variablen das Volumen $V$, das zwischen der Fläche $B$ (B wie Boden oder Bereich) und der Fläche $f(x,y)$ entsteht, wobei die Punkte $(x,y)$ aus $B$ stammen."
   ]
  },
  {
   "cell_type": "markdown",
   "id": "b7a61193-5781-48a6-862c-085dbb0f8df5",
   "metadata": {},
   "source": [
    "```{figure} pics/part09_sketch_doubleintegral.svg\n",
    "---\n",
    "width: 600px\n",
    "name: fig_part09_sketch_doubleintegral\n",
    "---\n",
    "Integral entspricht dem Volumen\n",
    "```"
   ]
  },
  {
   "cell_type": "markdown",
   "id": "59f7903e-0c6e-4738-bc6b-4cc2d1e1742c",
   "metadata": {},
   "source": [
    "Doppelintegrale haben vielfältige Anwendungen in den Ingenieurwissenschaften. Sie dienen u.a. zur Berechnung von \n",
    "\n",
    "* Flächeninhalt,\n",
    "* Schwerpunkt einer Fläche und\n",
    "* Flächenmoment."
   ]
  },
  {
   "cell_type": "markdown",
   "id": "1378cd6b-6261-4a02-902d-5e47c12e5365",
   "metadata": {},
   "source": [
    "## Definition Doppelintegral\n",
    "\n",
    "Für die Berechnung des Volumens der Funktion $f(x,y)$ über einem Bereich $B$ gehen wir so vor, wie im eindimensionalen Fall bei der Berechnung des Flächeninhaltes einer eindimensionalen Funktion. Wir zerlegen den Bereich $B$ mit einem sogenannten **Gitter**, d.h. wir teilen den Bereich $B$ in viele kleine Teilbereiche ein, die wir mit $B_i$ durchnummerieren. Von jedem Teilbereich $B_i$ können wir die x- und y-Koordinate des Mittelpunkts bestimmen. Diese Koordinaten nennen wir $(x_i,y_i)$. \n",
    "\n",
    "Wenn die Teilbereiche rechteckig sind (das müssen sie nicht sein, wir könnten auch beispielsweise Kreise oder andere Muster nehmen), dann kann das Volumen der Säule $V_i$ (siehe Abbildung rote Säule) berechnet werden als\n",
    "\n",
    "$$V_i = f(x_i,y_i) \\cdot \\Delta x \\cdot \\Delta y.$$"
   ]
  },
  {
   "cell_type": "markdown",
   "id": "64ed2c57-29a2-48f0-b4e5-b720418d8e03",
   "metadata": {},
   "source": [
    "```{figure} pics/part09_sketch_volume.svg\n",
    "---\n",
    "width: 600px\n",
    "name: fig_part09_sketch_volume\n",
    "---\n",
    "Volumen als Summe einzelner Säulen, hier mit rechteckigem Gitter\n",
    "```"
   ]
  },
  {
   "cell_type": "markdown",
   "id": "abe82e8f-171b-4b77-9a14-a3deacaffa5c",
   "metadata": {},
   "source": [
    "Jetzt müssen wir noch alle Säulen aufaddieren, um eine Annäherung für das Volumen zwischen Boden und Deckel $f(x,y)$ zu bekommen, also\n",
    "\n",
    "$$V\\approx f(x_1,y_1) \\cdot \\Delta y \\cdot \\Delta x + f(x_2,y_2) \\cdot \\Delta y \\cdot \\Delta x + \\ldots f(x_N,y_N) \\cdot \\Delta y \\cdot \\Delta x.$$\n",
    "\n",
    "Dabei haben wir jetzt angenommen, dass alle Teilbereiche $B_i$ die gleiche Form haben und als Rechtecke mit den Seitenlängen $\\Delta x$ und $\\Delta y$ beschrieben werden. Wir können das Summenzeichen verwenden:\n",
    "\n",
    "$$V\\approx \\sum_{i=1}^{N} f(x_i,y_i) \\cdot \\Delta y \\cdot \\Delta x .$$\n",
    "\n",
    "Wenn wir nun die Teilbereiche $B_i$ immer kleiner machen, so brauchen wir immer mehr Säulen, also $N\\rightarrow\\infty$. Falls der Grenzwert \n",
    "\n",
    "$$\\lim_{N\\rightarrow\\infty} \\sum_{i=1}^{N} f(x_i,y_i) \\cdot \\Delta y  \\cdot \\Delta x$$\n",
    "\n",
    "existiert, nennen wir ihn Integral von $f(x,y)$ über $B$ und schreiben das als sogenanntes **Doppelintegral**\n",
    "\n",
    "$$V = \\iint_{B} f(x,y) \\, dy \\, dx.$$"
   ]
  },
  {
   "cell_type": "code",
   "execution_count": 2,
   "id": "2b539722-7e0b-4315-a9f7-1f64d11fc0f5",
   "metadata": {
    "tags": [
     "remove-input"
    ]
   },
   "outputs": [
    {
     "data": {
      "text/html": [
       "\n",
       "<iframe\n",
       "    width=\"560\"\n",
       "    height=\"315\"\n",
       "    src=\"https://www.youtube.com/embed/7VjP3jEGW24\"\n",
       "    frameborder=\"0\"\n",
       "    allowfullscreen\n",
       "\n",
       "></iframe>\n"
      ],
      "text/plain": [
       "<IPython.lib.display.IFrame at 0x103958b80>"
      ]
     },
     "execution_count": 2,
     "metadata": {},
     "output_type": "execute_result"
    }
   ],
   "source": [
    "IFrame(width=560, height=315, src=\"https://www.youtube.com/embed/7VjP3jEGW24\")"
   ]
  },
  {
   "cell_type": "code",
   "execution_count": 3,
   "id": "3ffdeec1-ac83-41c5-a1c9-f67a202c506d",
   "metadata": {
    "tags": [
     "remove-input"
    ]
   },
   "outputs": [
    {
     "data": {
      "text/html": [
       "\n",
       "<iframe\n",
       "    width=\"560\"\n",
       "    height=\"315\"\n",
       "    src=\"https://www.youtube.com/embed/FtoHJaUR6T8\"\n",
       "    frameborder=\"0\"\n",
       "    allowfullscreen\n",
       "\n",
       "></iframe>\n"
      ],
      "text/plain": [
       "<IPython.lib.display.IFrame at 0x1039587c0>"
      ]
     },
     "execution_count": 3,
     "metadata": {},
     "output_type": "execute_result"
    }
   ],
   "source": [
    "IFrame(width=560, height=315, src=\"https://www.youtube.com/embed/FtoHJaUR6T8\")"
   ]
  },
  {
   "cell_type": "markdown",
   "id": "320f7f85-2649-4ebd-85f2-7d3feda2468c",
   "metadata": {},
   "source": [
    "## Doppelintegral in kartesischen Koordinaten berechnen\n",
    "\n",
    "Wie wird nun ein Doppelintegral konkret ausgerechnet? Glücklicherweise können wir die Berechnung des Doppelintegrals durch zwei \"normale\" Integrationen ersetzen. Die Voraussetzung dafür ist, dass wir ein [kartesisches Koordinatensystem](https://de.wikipedia.org/wiki/Kartesisches_Koordinatensystem) betrachten.\n",
    "\n",
    "Zuerst brauchen wir eine Beschreibung der Fläche $B$, also des Bodens. Wenn man das Koordinatensystem von oben betrachtet, kann der Rand von $B$ durch zwei Funktionen beschrieben werden. Im einfachsten Fall besteht der obere und der untere Rand von $B$ nur aus Linien. Dann lautet die obere Funktion einfach nur $y=y_{\\max}$ und die untere Funktion $y=y_{\\min}$. Meist brauchen wir aber Funktionen zur Beschreibung des Randes.\n",
    "\n",
    "**Schritt 1: Funktionen für den Rand von $B$ finden**\n",
    "\n",
    "Wir nennen die obere Funktion $f_o(x)$ und die untere Funktion $f_u(x)$. Nun können wir das Doppelintegral $\\iint_{B}f(x,y)\\, dB$ durch zwei Integrale ersetzen:\n",
    "\n",
    "$$\\iint_{B}f(x,y)\\, dB = \\int_{x=a}^{x=b} \\int_{y=f_u(x)}^{y=f_o(x)} f(x,y)\\, dy \\, dx.$$\n",
    "\n",
    "**Schritt 2: innere Integration (nach y)**\n",
    "\n",
    "Zuerst behandeln wir die Variable $x$ als eine Konstante. Dann wird die Funktion $f(x,y)$ nach $y$ integriert. In die Stammfunktion setzt man dann als obere Grenze die obere Funktion $f_o(x)$ ein und als untere Grenze die untere Funktion $f_u(x)$. Dadurch ist das Ergebnis der Integration wieder eine Funktion.\n",
    "\n",
    "**Schritt 3: äußere Integration (nach x)**\n",
    "\n",
    "Die in Schritt 2 entstandene Funktion wird wieder integriert, aber diesmal nach $x$. Diesmal setzen wir in die Stammfunktion die obere Grenze $b$ und die untere Grenze $a$ ein, so dass diesmal wirklich eine Zahl herauskommt.\n",
    "\n",
    "In den folgenden Videos sehen Sie drei Beispiele: \n",
    "\n",
    "1. rechteckiger Bereich\n",
    "2. allgemeine Vorgehensweise\n",
    "3. Beispiel für nicht-rechteckige Bereiche"
   ]
  },
  {
   "cell_type": "code",
   "execution_count": 4,
   "id": "67077f3b-6b9e-4794-9515-9e75c7acdc63",
   "metadata": {
    "tags": [
     "remove-input"
    ]
   },
   "outputs": [
    {
     "data": {
      "text/html": [
       "\n",
       "<iframe\n",
       "    width=\"560\"\n",
       "    height=\"315\"\n",
       "    src=\"https://www.youtube.com/embed/l_Fg_tDqx2E\"\n",
       "    frameborder=\"0\"\n",
       "    allowfullscreen\n",
       "\n",
       "></iframe>\n"
      ],
      "text/plain": [
       "<IPython.lib.display.IFrame at 0x103958cd0>"
      ]
     },
     "execution_count": 4,
     "metadata": {},
     "output_type": "execute_result"
    }
   ],
   "source": [
    "IFrame(width=560, height=315, src=\"https://www.youtube.com/embed/l_Fg_tDqx2E\")"
   ]
  },
  {
   "cell_type": "code",
   "execution_count": 5,
   "id": "9dbb2c88-38ce-4c1c-98e3-692ab184de68",
   "metadata": {
    "tags": [
     "remove-input"
    ]
   },
   "outputs": [
    {
     "data": {
      "text/html": [
       "\n",
       "<iframe\n",
       "    width=\"560\"\n",
       "    height=\"315\"\n",
       "    src=\"https://www.youtube.com/embed/ZesBkRCLLPY\"\n",
       "    frameborder=\"0\"\n",
       "    allowfullscreen\n",
       "\n",
       "></iframe>\n"
      ],
      "text/plain": [
       "<IPython.lib.display.IFrame at 0x103958b50>"
      ]
     },
     "execution_count": 5,
     "metadata": {},
     "output_type": "execute_result"
    }
   ],
   "source": [
    "IFrame(width=560, height=315, src=\"https://www.youtube.com/embed/ZesBkRCLLPY\")"
   ]
  },
  {
   "cell_type": "code",
   "execution_count": 6,
   "id": "9aa7ff64-f00c-48f3-91e9-52c3eec8cf06",
   "metadata": {
    "tags": [
     "remove-input"
    ]
   },
   "outputs": [
    {
     "data": {
      "text/html": [
       "\n",
       "<iframe\n",
       "    width=\"560\"\n",
       "    height=\"315\"\n",
       "    src=\"https://www.youtube.com/embed/gh5_lifDH48\"\n",
       "    frameborder=\"0\"\n",
       "    allowfullscreen\n",
       "\n",
       "></iframe>\n"
      ],
      "text/plain": [
       "<IPython.lib.display.IFrame at 0x10392feb0>"
      ]
     },
     "execution_count": 6,
     "metadata": {},
     "output_type": "execute_result"
    }
   ],
   "source": [
    "IFrame(width=560, height=315, src=\"https://www.youtube.com/embed/gh5_lifDH48\")"
   ]
  },
  {
   "cell_type": "markdown",
   "id": "d43991b6-183d-4216-a5ca-6bf841e21072",
   "metadata": {},
   "source": [
    "## Anwendungen von Doppelintegralen\n",
    "\n",
    "Der Flächeninhalt kann mit der Formel\n",
    "\n",
    "$$A = \\iint_{B} 1 \\, dB = \\int_{x=a}^{x=b} \\int_{y=f_u(x)}^{y=f_o(x)} 1 \\, dy \\, dx.$$ \n",
    "\n",
    "berechnet werden, also $f(x,y)=1$."
   ]
  },
  {
   "cell_type": "markdown",
   "id": "9e3e4b2d-9d64-449f-a579-724ea6925ad5",
   "metadata": {},
   "source": [
    "Für den Schwerpunkt einer ebenen homogenen Fläche erhalten wir für die x-Koordinate die folgende Formel\n",
    "\n",
    "$$x_S = \\frac{1}{A} \\int_{x=a}^{x=b} \\int_{y=f_u(x)}^{y=f_o(x)} x \\, dy \\, dx$$ \n",
    "\n",
    "und für die y-Koordinate des Schwerpunkts\n",
    "\n",
    "$$y_S = \\frac{1}{A} \\int_{x=a}^{x=b} \\int_{y=f_u(x)}^{y=f_o(x)} y \\, dy \\, dx.$$ "
   ]
  }
 ],
 "metadata": {
  "kernelspec": {
   "display_name": "Python 3 (ipykernel)",
   "language": "python",
   "name": "python3"
  },
  "language_info": {
   "codemirror_mode": {
    "name": "ipython",
    "version": 3
   },
   "file_extension": ".py",
   "mimetype": "text/x-python",
   "name": "python",
   "nbconvert_exporter": "python",
   "pygments_lexer": "ipython3",
   "version": "3.9.15"
  }
 },
 "nbformat": 4,
 "nbformat_minor": 5
}