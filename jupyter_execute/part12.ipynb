{
 "cells": [
  {
   "cell_type": "code",
   "execution_count": 1,
   "id": "2f4794a6-b592-46ea-a56f-d48ad6c07169",
   "metadata": {
    "tags": [
     "remove-input"
    ]
   },
   "outputs": [],
   "source": [
    "from IPython.display import IFrame"
   ]
  },
  {
   "cell_type": "markdown",
   "id": "26aa8a78-f6f0-4834-8970-951c77282b1a",
   "metadata": {},
   "source": [
    "# Differentialgleichungen (Teil 2)\n",
    "\n",
    "\n",
    "## Lernziele\n",
    "```{admonition} Lernziele\n",
    ":class: tip\n",
    "* Sie können bei einer gegebenen Differentialgleichung entscheiden, ob diese eine **lineare Differentialgleichung** ist oder nicht.\n",
    "* Sie können eine **homogene lineare Differentialgleichung 1. Ordnung** lösen.\n",
    "* Sie können eine **inhomogene lineare Differentialgleichung 1. Ordnung** lösen.\n",
    "* Sie können das Lösungsverfahren **Variation der Konstante** anwenden, um die Lösung einer linearen Differentialgleichung zu bestimmen.\n",
    "* Sie können erklären, was ein **System von Differentialgleichungen** ist.\n",
    "* Sie können ein **System von Differentialgleichungen 2. Ordnung** lösen.\n",
    "```"
   ]
  },
  {
   "cell_type": "markdown",
   "id": "e4821ea5-f07d-4ffe-9ffc-94bc27c178a5",
   "metadata": {},
   "source": [
    "## Lineare Differentialgleichungen\n",
    "\n",
    "Eine Differentialgleichung, die wir in der Form\n",
    "\n",
    "$$a_n(x)y^{(n)} + a_{n-1}(x)y^{(n-1)}+ \\ldots + a_1(x)y' + a_0(x)y = r(x)$$\n",
    "\n",
    "schreiben können, nennen wir eine **lineare DGL**. Die rechte Seite $r(x)$ wird **Störfunktion** genannt.\n",
    "\n",
    "Wenn die rechte Seite 0 ist, also die Störfunktion fehlt, wird die lineare DGL **homogen** genannt, ansonsten **inhomogen**. "
   ]
  },
  {
   "cell_type": "markdown",
   "id": "25f51c04-620c-4d36-bf6b-df94ed90537d",
   "metadata": {},
   "source": [
    "## Wie wird eine homogene lineare DGL 1. Ordnung gelöst?\n",
    "\n",
    "Zuerst betrachten wir eine homogene lineare DGL 1. Ordnung, also\n",
    "\n",
    "$$a_1(x)y' + a_0(x)y = 0.$$\n",
    "\n",
    "Das ist eine separable DGL und die allgemeine Lösung lautet\n",
    "\n",
    "$$y_h(x)=C \\cdot e^{-\\int \\frac{a_0(x)}{a_1(x)}\\, dx}.$$\n",
    "\n",
    "Beispiel:\n",
    "\n",
    "Gegeben ist die homogene lineare DGL 1. Ordnung\n",
    "\n",
    "$$y'+3y=0,$$\n",
    "\n",
    "also $a_1(x)=1$ und $a_0(x)=3$. Damit ist die allgemeine homogene Lösung der DGL\n",
    "\n",
    "$$y_h(x)=C \\cdot e^{-\\int \\frac{3}{1}\\, dx} = C\\cdot e^{-3x}.$$"
   ]
  },
  {
   "cell_type": "code",
   "execution_count": 2,
   "id": "e2b73605-c146-4dd2-9ef0-258add8e51e0",
   "metadata": {
    "tags": [
     "remove-input"
    ]
   },
   "outputs": [
    {
     "data": {
      "text/html": [
       "\n",
       "<iframe\n",
       "    width=\"560\"\n",
       "    height=\"315\"\n",
       "    src=\"https://www.youtube.com/embed/Sm0Go9IioJ4\"\n",
       "    frameborder=\"0\"\n",
       "    allowfullscreen\n",
       "\n",
       "></iframe>\n"
      ],
      "text/plain": [
       "<IPython.lib.display.IFrame at 0x103840670>"
      ]
     },
     "execution_count": 2,
     "metadata": {},
     "output_type": "execute_result"
    }
   ],
   "source": [
    "IFrame(width=560, height=315, src=\"https://www.youtube.com/embed/Sm0Go9IioJ4\")"
   ]
  },
  {
   "cell_type": "markdown",
   "id": "caed9876-0c8f-4a03-9cd2-6ede09db7c44",
   "metadata": {},
   "source": [
    "## Wie wird eine inhomogene lineare DGL 1. Ordnung gelöst?\n",
    "\n",
    "Nun betrachten wir eine inhomogene lineare DGL 1. Ordnung, also\n",
    "\n",
    "$$a_1(x)y' + a_0(x) y = r(x).$$\n",
    "\n",
    "Als erstes lassen wir die Störfunktion weg und berechnen die homogene Lösung\n",
    "\n",
    "$$y_h(x)=C \\cdot e^{-\\int \\frac{a_0(x)}{a_1(x)}\\, dx}.$$\n",
    "\n",
    "Dann ersetzen wir die Konstante $C$ durch eine Funktion $C(x)$ -- das nennt man **Variation der Konstanten** -- und setzen diese Lösung in die inhomogene DGL ein. Dadurch entsteht eine DGL für die unbekannte Funktion $C(x)$, die wir dann lösen.\n",
    "\n",
    "Beispiel:\n",
    "\n",
    "Gegeben ist die inhomogene lineare DGL 1. Ordnung\n",
    "\n",
    "$$y'+3y=x^2.$$\n",
    "\n",
    "Die homogene Lösung ist $y_h(x)=C\\cdot e^{-3x}$. Wir variieren die Konstante\n",
    "\n",
    "$$y(x)=C(x)\\cdot e^{-3x} \\quad \\Rightarrow \\quad y'(x)=C'(x)e^{-3x} -3 C(x) e^{-3x}$$\n",
    "\n",
    "und setzen in die DGL ein:\n",
    "\n",
    "$$C'(x)e^{-3x} -3 C(x) e^{-3x} + 3C(x)\\cdot e^{-3x} = x^2.$$\n",
    "\n",
    "Wir vereinfachen\n",
    "\n",
    "$$C'(x)e^{-3x} -3 C(x) e^{-3x} + 3C(x)\\cdot e^{-3x} = x^2$$\n",
    "\n",
    "zu\n",
    "\n",
    "$$ C'(x)e^{-3x} = x^2 \\quad \\Rightarrow \\quad C'(x)=x^2\\cdot e^{3x}.$$\n",
    "\n",
    "Integration auf beiden Seiten:\n",
    "\n",
    "\\begin{multline*}\n",
    "C(x)= \\left[x^2\\cdot\\frac{1}{3}e^{3x}\\right] -\\int 2x \\frac{1}{3}e^{3x}\\, dx = \\\\\n",
    "= \\left[x^2\\cdot\\frac{1}{3}e^{3x}\\right] - \\left[2x\\cdot\\frac{1}{9}e^{3x}\\right] + \\int 2\\cdot  \\frac{1}{3}e^{3x} \\, dx = \\\\\n",
    "= \\frac{1}{27}e^{3x}(9x^2 - 6x + 2) + C_1\n",
    "\\end{multline*}\n",
    "\n",
    "Allgemeine Lösung der inhomogenen DGL\n",
    "\n",
    "$$y(x)= C_1e^{-3x} + \\frac{1}{3}x^2 - \\frac{1}{9}x + \\frac{2}{27}.$$\n"
   ]
  },
  {
   "cell_type": "code",
   "execution_count": 3,
   "id": "e953aa1f-1c38-4378-a131-3e58e41aeb0c",
   "metadata": {
    "tags": [
     "remove-input"
    ]
   },
   "outputs": [
    {
     "data": {
      "text/html": [
       "\n",
       "<iframe\n",
       "    width=\"560\"\n",
       "    height=\"315\"\n",
       "    src=\"https://www.youtube.com/embed/AWdLkNZJZ70\"\n",
       "    frameborder=\"0\"\n",
       "    allowfullscreen\n",
       "\n",
       "></iframe>\n"
      ],
      "text/plain": [
       "<IPython.lib.display.IFrame at 0x103840880>"
      ]
     },
     "execution_count": 3,
     "metadata": {},
     "output_type": "execute_result"
    }
   ],
   "source": [
    "IFrame(width=560, height=315, src=\"https://www.youtube.com/embed/AWdLkNZJZ70\")"
   ]
  },
  {
   "cell_type": "markdown",
   "id": "8bc46825-4626-4196-8541-7c93937335a4",
   "metadata": {},
   "source": [
    "## Was ist ein System von Differentialgleichungen?\n",
    "\n",
    "Wir betrachten in dieser Vorlesung nur Systeme von 2 DGL, die homogen, lineaer und von 1. Ordnung sind.\n",
    "\n",
    "Ein System von Differentialgleichungen\n",
    "\\begin{align*}\n",
    "y_1' &= a_{11}y_1 + a_{12}y_2 \\\\ \n",
    "y_2' &= a_{21}y_1 + a_{22}y_2\n",
    "\\end{align*}\n",
    "heißt homogenes System von Differentialgleichungen 1. Ordnung mit konstanten Koeffizienten.\n",
    "\n",
    "Es werden also zwei Funktionen $y_1$ und $y_2$ gesucht. Beide gesuchten Funktionen kommen mit der 1. Ableitung vor, in Summe hat das System damit die 2. Ordnung."
   ]
  },
  {
   "cell_type": "markdown",
   "id": "81f243b9-12ab-47b9-91ab-c9c9bcdb8359",
   "metadata": {},
   "source": [
    "## Wie wird ein System 2. Ordnung gelöst?\n",
    "\n",
    "Bilde die **charakteristische Gleichung**\n",
    "\n",
    "$$\\det(A-\\lambda E) = \\begin{vmatrix} a_{11}-\\lambda & a_{12} \\\\ a_{21} & a_{22}-\\lambda \\end{vmatrix}$$\n",
    "\n",
    "und berechne die Nullstellen $\\lambda_1$ und $\\lambda_2$ (=Eigenwerte).\n",
    "\n",
    "Es gibt drei mögliche Lösungen:\n",
    "\n",
    "* 2 Nullstellen, d.h. $\\lambda_1 \\neq \\lambda_2$ reell\n",
    "* 1 Nullstelle, d.h. $\\lambda_1 = \\lambda_2$ reell\n",
    "* 0 Nullstellen, d.h. $\\lambda_1 \\neq \\lambda_2$ komplex, weil für die komplexen Zahlen eine quadratische Gleichung immer zwei Lösungen hat\n",
    "\n",
    "Je nachdem, welcher dieser dieser Fälle eintritt, lauten die Lösungen wie folgt.\n",
    "\n",
    "### 2 Nullstellen\n",
    "\n",
    "Es gilt also $\\lambda_1 \\neq \\lambda_2$ reell.\n",
    "\n",
    "1. Lösungsfunktion: $y_1(x)=C_1\\cdot e^{\\lambda_1 x} + C_2\\cdot e^{\\lambda_2 x}$ \n",
    "\n",
    "2. Lösungsfunktion erhalten wir, indem wir die $y_1$ in die 1. DGL einsetzen und dann nach $y_2$ auflösen:\n",
    "\n",
    "$$y_2(x)=\\frac{1}{a_{12}}(y_1' - a_{11} y_1) $$\n",
    "\n",
    "### 1 Nullstelle \n",
    "\n",
    "Es gilt also $\\lambda_1 = \\lambda_2 = \\alpha$ reell.\n",
    "\n",
    "1. Lösungsfunktion: $y_1(x)=(C_1+C_2 x) \\cdot e^{\\alpha x} $\n",
    "\n",
    "2. Lösungsfunktion erhalten wir wiederum als\n",
    "\n",
    "$$y_2(x)=\\frac{1}{a_{12}}(y_1' - a_{11} y_1) $$\n",
    "\n",
    "\n",
    "### 0 Nullstellen\n",
    "\n",
    "Es gilt also $\\lambda_1 \\neq \\lambda_2$ komplex, die komplexen Nullstellen können geschrieben werden als $\\lambda_{1/2}=\\alpha \\pm \\omega i$. \n",
    "\n",
    "1. Lösungsfunktion: $y_1(x)=e^{\\alpha x}\\left(C_1\\sin(\\omega x) + C_2 \\cos(\\omega x)\\right) $\n",
    "\n",
    "2. Lösungsfunktion erhalten wir wiederum als\n",
    "\n",
    "$$y_2(x)=\\frac{1}{a_{12}}(y_1' - a_{11} y_1) $$\n"
   ]
  },
  {
   "cell_type": "code",
   "execution_count": 4,
   "id": "2409eb5b-3992-4590-a3aa-4c9bcdd11317",
   "metadata": {
    "tags": [
     "remove-input"
    ]
   },
   "outputs": [
    {
     "data": {
      "text/html": [
       "\n",
       "<iframe\n",
       "    width=\"560\"\n",
       "    height=\"315\"\n",
       "    src=\"https://www.youtube.com/embed/u1Jm4YXF11c\"\n",
       "    frameborder=\"0\"\n",
       "    allowfullscreen\n",
       "\n",
       "></iframe>\n"
      ],
      "text/plain": [
       "<IPython.lib.display.IFrame at 0x103840ac0>"
      ]
     },
     "execution_count": 4,
     "metadata": {},
     "output_type": "execute_result"
    }
   ],
   "source": [
    "IFrame(width=560, height=315, src=\"https://www.youtube.com/embed/u1Jm4YXF11c\")"
   ]
  }
 ],
 "metadata": {
  "kernelspec": {
   "display_name": "Python 3 (ipykernel)",
   "language": "python",
   "name": "python3"
  },
  "language_info": {
   "codemirror_mode": {
    "name": "ipython",
    "version": 3
   },
   "file_extension": ".py",
   "mimetype": "text/x-python",
   "name": "python",
   "nbconvert_exporter": "python",
   "pygments_lexer": "ipython3",
   "version": "3.9.15"
  }
 },
 "nbformat": 4,
 "nbformat_minor": 5
}